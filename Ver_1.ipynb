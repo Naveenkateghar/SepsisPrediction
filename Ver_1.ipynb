{
 "cells": [
  {
   "cell_type": "markdown",
   "metadata": {},
   "source": [
    "<b><h2>Importing libraries</b></h2>"
   ]
  },
  {
   "cell_type": "code",
   "execution_count": 1,
   "metadata": {
    "id": "jQuMNMo6XVqs"
   },
   "outputs": [],
   "source": [
    "from os import listdir\n",
    "from sklearn.linear_model import LogisticRegression\n",
    "from sklearn.ensemble import RandomForestClassifier\n",
    "from sklearn.ensemble import GradientBoostingClassifier\n",
    "from sklearn.tree import DecisionTreeClassifier\n",
    "from sklearn.calibration import CalibratedClassifierCV\n",
    "import pandas as pd\n",
    "import numpy as np\n",
    "import pickle\n",
    "import seaborn as sns\n",
    "import matplotlib.pyplot as plt\n",
    "from sklearn.utils import resample\n",
    "from sklearn.model_selection import train_test_split\n",
    "from xgboost import XGBClassifier\n",
    "from sklearn.metrics import roc_auc_score\n",
    "from sklearn.metrics import precision_score\n",
    "from sklearn.metrics import accuracy_score\n",
    "from sklearn.metrics import recall_score\n",
    "from sklearn.metrics import f1_score\n",
    "from sklearn.metrics import confusion_matrix\n",
    "from sklearn.metrics import roc_curve\n",
    "from sklearn.metrics import auc\n",
    "from sklearn.metrics import f1_score\n",
    "from sklearn.linear_model import SGDClassifier\n",
    "\n",
    "import tensorflow as tf\n",
    "from tensorflow.keras.layers import Dense,Activation,InputLayer\n",
    "from tensorflow.keras.models import Model ,Sequential\n",
    "import datetime\n",
    "from tensorflow.keras.initializers import he_uniform"
   ]
  },
  {
   "cell_type": "code",
   "execution_count": 2,
   "metadata": {},
   "outputs": [],
   "source": [
    "import warnings\n",
    "warnings.filterwarnings('ignore')"
   ]
  },
  {
   "cell_type": "markdown",
   "metadata": {},
   "source": [
    "<b><h2>Reading Data</b></h2>"
   ]
  },
  {
   "cell_type": "code",
   "execution_count": 3,
   "metadata": {
    "id": "LbEHOvmyanKl"
   },
   "outputs": [],
   "source": [
    "a_traincsv = listdir('training/')\n",
    "\n",
    "with open(\"train.psv\",\"wb\") as fout:\n",
    "\n",
    "  for i,csv in enumerate(a_traincsv):\n",
    "      \n",
    "    if i == 0:\n",
    "      with open('training/' + csv, \"rb\") as f:\n",
    "          fout.write(f.read())\n",
    "      \n",
    "    if i <10000:\n",
    "     with open('training/' + csv, \"rb\") as f:\n",
    "       next(f)\n",
    "       fout.write(f.read())"
   ]
  },
  {
   "cell_type": "markdown",
   "metadata": {},
   "source": [
    "<b><h2>Descriptive Statistics of data</b></h2>"
   ]
  },
  {
   "cell_type": "code",
   "execution_count": 4,
   "metadata": {
    "colab": {
     "base_uri": "https://localhost:8080/"
    },
    "id": "O8YMfgWRap0U",
    "outputId": "9b095432-f1fc-43ec-b849-935c7ec1edc2"
   },
   "outputs": [
    {
     "name": "stdout",
     "output_type": "stream",
     "text": [
      "No Of Rows in The data set= 391894\n",
      "No Of columns in The data set= 41\n"
     ]
    }
   ],
   "source": [
    "data = pd.read_csv('train.psv', sep ='|')\n",
    "print(\"No Of Rows in The data set=\",data.shape[0])\n",
    "print(\"No Of columns in The data set=\",data.shape[1])"
   ]
  },
  {
   "cell_type": "code",
   "execution_count": 5,
   "metadata": {},
   "outputs": [
    {
     "name": "stdout",
     "output_type": "stream",
     "text": [
      "<class 'pandas.core.frame.DataFrame'>\n",
      "RangeIndex: 391894 entries, 0 to 391893\n",
      "Data columns (total 41 columns):\n",
      " #   Column            Non-Null Count   Dtype  \n",
      "---  ------            --------------   -----  \n",
      " 0   HR                361684 non-null  float64\n",
      " 1   O2Sat             344505 non-null  float64\n",
      " 2   Temp              132963 non-null  float64\n",
      " 3   SBP               331073 non-null  float64\n",
      " 4   MAP               351569 non-null  float64\n",
      " 5   DBP               203348 non-null  float64\n",
      " 6   Resp              353713 non-null  float64\n",
      " 7   EtCO2             0 non-null       float64\n",
      " 8   BaseExcess        40763 non-null   float64\n",
      " 9   HCO3              31412 non-null   float64\n",
      " 10  FiO2              56268 non-null   float64\n",
      " 11  pH                44902 non-null   float64\n",
      " 12  PaCO2             34439 non-null   float64\n",
      " 13  SaO2              19576 non-null   float64\n",
      " 14  AST               5871 non-null    float64\n",
      " 15  BUN               31812 non-null   float64\n",
      " 16  Alkalinephos      5718 non-null    float64\n",
      " 17  Calcium           19362 non-null   float64\n",
      " 18  Chloride          32464 non-null   float64\n",
      " 19  Creatinine        25970 non-null   float64\n",
      " 20  Bilirubin_direct  591 non-null     float64\n",
      " 21  Glucose           48019 non-null   float64\n",
      " 22  Lactate           13319 non-null   float64\n",
      " 23  Magnesium         30414 non-null   float64\n",
      " 24  Phosphate         19705 non-null   float64\n",
      " 25  Potassium         42568 non-null   float64\n",
      " 26  Bilirubin_total   4805 non-null    float64\n",
      " 27  TroponinI         499 non-null     float64\n",
      " 28  Hct               45860 non-null   float64\n",
      " 29  Hgb               34569 non-null   float64\n",
      " 30  PTT               18857 non-null   float64\n",
      " 31  WBC               29314 non-null   float64\n",
      " 32  Fibrinogen        3011 non-null    float64\n",
      " 33  Platelets         25450 non-null   float64\n",
      " 34  Age               391894 non-null  float64\n",
      " 35  Gender            391894 non-null  int64  \n",
      " 36  Unit1             202535 non-null  float64\n",
      " 37  Unit2             202535 non-null  float64\n",
      " 38  HospAdmTime       391886 non-null  float64\n",
      " 39  ICULOS            391894 non-null  int64  \n",
      " 40  SepsisLabel       391894 non-null  int64  \n",
      "dtypes: float64(38), int64(3)\n",
      "memory usage: 122.6 MB\n"
     ]
    }
   ],
   "source": [
    "data.info()"
   ]
  },
  {
   "cell_type": "code",
   "execution_count": 6,
   "metadata": {},
   "outputs": [
    {
     "data": {
      "text/html": [
       "<div>\n",
       "<style scoped>\n",
       "    .dataframe tbody tr th:only-of-type {\n",
       "        vertical-align: middle;\n",
       "    }\n",
       "\n",
       "    .dataframe tbody tr th {\n",
       "        vertical-align: top;\n",
       "    }\n",
       "\n",
       "    .dataframe thead th {\n",
       "        text-align: right;\n",
       "    }\n",
       "</style>\n",
       "<table border=\"1\" class=\"dataframe\">\n",
       "  <thead>\n",
       "    <tr style=\"text-align: right;\">\n",
       "      <th></th>\n",
       "      <th>HR</th>\n",
       "      <th>O2Sat</th>\n",
       "      <th>Temp</th>\n",
       "      <th>SBP</th>\n",
       "      <th>MAP</th>\n",
       "      <th>DBP</th>\n",
       "      <th>Resp</th>\n",
       "      <th>EtCO2</th>\n",
       "      <th>BaseExcess</th>\n",
       "      <th>HCO3</th>\n",
       "      <th>...</th>\n",
       "      <th>WBC</th>\n",
       "      <th>Fibrinogen</th>\n",
       "      <th>Platelets</th>\n",
       "      <th>Age</th>\n",
       "      <th>Gender</th>\n",
       "      <th>Unit1</th>\n",
       "      <th>Unit2</th>\n",
       "      <th>HospAdmTime</th>\n",
       "      <th>ICULOS</th>\n",
       "      <th>SepsisLabel</th>\n",
       "    </tr>\n",
       "  </thead>\n",
       "  <tbody>\n",
       "    <tr>\n",
       "      <th>count</th>\n",
       "      <td>361684.000000</td>\n",
       "      <td>344505.000000</td>\n",
       "      <td>132963.000000</td>\n",
       "      <td>331073.000000</td>\n",
       "      <td>351569.000000</td>\n",
       "      <td>203348.000000</td>\n",
       "      <td>353713.000000</td>\n",
       "      <td>0.0</td>\n",
       "      <td>40763.000000</td>\n",
       "      <td>31412.000000</td>\n",
       "      <td>...</td>\n",
       "      <td>29314.000000</td>\n",
       "      <td>3011.000000</td>\n",
       "      <td>25450.000000</td>\n",
       "      <td>391894.000000</td>\n",
       "      <td>391894.000000</td>\n",
       "      <td>202535.000000</td>\n",
       "      <td>202535.000000</td>\n",
       "      <td>391886.000000</td>\n",
       "      <td>391894.000000</td>\n",
       "      <td>391894.000000</td>\n",
       "    </tr>\n",
       "    <tr>\n",
       "      <th>mean</th>\n",
       "      <td>84.949581</td>\n",
       "      <td>97.246268</td>\n",
       "      <td>37.023318</td>\n",
       "      <td>120.931776</td>\n",
       "      <td>78.745281</td>\n",
       "      <td>59.841935</td>\n",
       "      <td>18.788491</td>\n",
       "      <td>NaN</td>\n",
       "      <td>-0.611100</td>\n",
       "      <td>24.154137</td>\n",
       "      <td>...</td>\n",
       "      <td>11.973255</td>\n",
       "      <td>288.601860</td>\n",
       "      <td>200.398495</td>\n",
       "      <td>63.126926</td>\n",
       "      <td>0.578279</td>\n",
       "      <td>0.498393</td>\n",
       "      <td>0.501607</td>\n",
       "      <td>-50.650422</td>\n",
       "      <td>28.220123</td>\n",
       "      <td>0.022570</td>\n",
       "    </tr>\n",
       "    <tr>\n",
       "      <th>std</th>\n",
       "      <td>16.875581</td>\n",
       "      <td>2.899565</td>\n",
       "      <td>0.781157</td>\n",
       "      <td>21.546555</td>\n",
       "      <td>15.147506</td>\n",
       "      <td>12.576362</td>\n",
       "      <td>5.398084</td>\n",
       "      <td>NaN</td>\n",
       "      <td>4.171336</td>\n",
       "      <td>4.365466</td>\n",
       "      <td>...</td>\n",
       "      <td>8.188072</td>\n",
       "      <td>154.653572</td>\n",
       "      <td>110.570091</td>\n",
       "      <td>16.052765</td>\n",
       "      <td>0.493835</td>\n",
       "      <td>0.499999</td>\n",
       "      <td>0.499999</td>\n",
       "      <td>143.216568</td>\n",
       "      <td>30.869579</td>\n",
       "      <td>0.148528</td>\n",
       "    </tr>\n",
       "    <tr>\n",
       "      <th>min</th>\n",
       "      <td>20.000000</td>\n",
       "      <td>20.000000</td>\n",
       "      <td>20.900000</td>\n",
       "      <td>24.000000</td>\n",
       "      <td>20.000000</td>\n",
       "      <td>20.000000</td>\n",
       "      <td>1.000000</td>\n",
       "      <td>NaN</td>\n",
       "      <td>-32.000000</td>\n",
       "      <td>5.000000</td>\n",
       "      <td>...</td>\n",
       "      <td>0.100000</td>\n",
       "      <td>50.000000</td>\n",
       "      <td>5.000000</td>\n",
       "      <td>18.110000</td>\n",
       "      <td>0.000000</td>\n",
       "      <td>0.000000</td>\n",
       "      <td>0.000000</td>\n",
       "      <td>-3710.660000</td>\n",
       "      <td>1.000000</td>\n",
       "      <td>0.000000</td>\n",
       "    </tr>\n",
       "    <tr>\n",
       "      <th>25%</th>\n",
       "      <td>73.000000</td>\n",
       "      <td>96.000000</td>\n",
       "      <td>36.560000</td>\n",
       "      <td>105.000000</td>\n",
       "      <td>68.000000</td>\n",
       "      <td>51.000000</td>\n",
       "      <td>15.000000</td>\n",
       "      <td>NaN</td>\n",
       "      <td>-3.000000</td>\n",
       "      <td>22.000000</td>\n",
       "      <td>...</td>\n",
       "      <td>8.100000</td>\n",
       "      <td>184.000000</td>\n",
       "      <td>126.000000</td>\n",
       "      <td>52.970000</td>\n",
       "      <td>0.000000</td>\n",
       "      <td>0.000000</td>\n",
       "      <td>0.000000</td>\n",
       "      <td>-38.140000</td>\n",
       "      <td>11.000000</td>\n",
       "      <td>0.000000</td>\n",
       "    </tr>\n",
       "    <tr>\n",
       "      <th>50%</th>\n",
       "      <td>84.000000</td>\n",
       "      <td>98.000000</td>\n",
       "      <td>37.050000</td>\n",
       "      <td>118.000000</td>\n",
       "      <td>77.000000</td>\n",
       "      <td>58.000000</td>\n",
       "      <td>18.000000</td>\n",
       "      <td>NaN</td>\n",
       "      <td>0.000000</td>\n",
       "      <td>24.000000</td>\n",
       "      <td>...</td>\n",
       "      <td>10.900000</td>\n",
       "      <td>248.000000</td>\n",
       "      <td>182.000000</td>\n",
       "      <td>65.230000</td>\n",
       "      <td>1.000000</td>\n",
       "      <td>0.000000</td>\n",
       "      <td>1.000000</td>\n",
       "      <td>-2.720000</td>\n",
       "      <td>22.000000</td>\n",
       "      <td>0.000000</td>\n",
       "    </tr>\n",
       "    <tr>\n",
       "      <th>75%</th>\n",
       "      <td>96.000000</td>\n",
       "      <td>99.500000</td>\n",
       "      <td>37.550000</td>\n",
       "      <td>134.000000</td>\n",
       "      <td>87.330000</td>\n",
       "      <td>67.000000</td>\n",
       "      <td>22.000000</td>\n",
       "      <td>NaN</td>\n",
       "      <td>1.000000</td>\n",
       "      <td>27.000000</td>\n",
       "      <td>...</td>\n",
       "      <td>14.400000</td>\n",
       "      <td>350.000000</td>\n",
       "      <td>247.000000</td>\n",
       "      <td>75.980000</td>\n",
       "      <td>1.000000</td>\n",
       "      <td>1.000000</td>\n",
       "      <td>1.000000</td>\n",
       "      <td>-0.020000</td>\n",
       "      <td>35.000000</td>\n",
       "      <td>0.000000</td>\n",
       "    </tr>\n",
       "    <tr>\n",
       "      <th>max</th>\n",
       "      <td>280.000000</td>\n",
       "      <td>100.000000</td>\n",
       "      <td>42.220000</td>\n",
       "      <td>274.000000</td>\n",
       "      <td>298.000000</td>\n",
       "      <td>298.000000</td>\n",
       "      <td>69.000000</td>\n",
       "      <td>NaN</td>\n",
       "      <td>28.000000</td>\n",
       "      <td>55.000000</td>\n",
       "      <td>...</td>\n",
       "      <td>422.900000</td>\n",
       "      <td>1760.000000</td>\n",
       "      <td>1783.000000</td>\n",
       "      <td>88.990000</td>\n",
       "      <td>1.000000</td>\n",
       "      <td>1.000000</td>\n",
       "      <td>1.000000</td>\n",
       "      <td>23.990000</td>\n",
       "      <td>336.000000</td>\n",
       "      <td>1.000000</td>\n",
       "    </tr>\n",
       "  </tbody>\n",
       "</table>\n",
       "<p>8 rows × 41 columns</p>\n",
       "</div>"
      ],
      "text/plain": [
       "                  HR          O2Sat           Temp            SBP  \\\n",
       "count  361684.000000  344505.000000  132963.000000  331073.000000   \n",
       "mean       84.949581      97.246268      37.023318     120.931776   \n",
       "std        16.875581       2.899565       0.781157      21.546555   \n",
       "min        20.000000      20.000000      20.900000      24.000000   \n",
       "25%        73.000000      96.000000      36.560000     105.000000   \n",
       "50%        84.000000      98.000000      37.050000     118.000000   \n",
       "75%        96.000000      99.500000      37.550000     134.000000   \n",
       "max       280.000000     100.000000      42.220000     274.000000   \n",
       "\n",
       "                 MAP            DBP           Resp  EtCO2    BaseExcess  \\\n",
       "count  351569.000000  203348.000000  353713.000000    0.0  40763.000000   \n",
       "mean       78.745281      59.841935      18.788491    NaN     -0.611100   \n",
       "std        15.147506      12.576362       5.398084    NaN      4.171336   \n",
       "min        20.000000      20.000000       1.000000    NaN    -32.000000   \n",
       "25%        68.000000      51.000000      15.000000    NaN     -3.000000   \n",
       "50%        77.000000      58.000000      18.000000    NaN      0.000000   \n",
       "75%        87.330000      67.000000      22.000000    NaN      1.000000   \n",
       "max       298.000000     298.000000      69.000000    NaN     28.000000   \n",
       "\n",
       "               HCO3  ...           WBC   Fibrinogen     Platelets  \\\n",
       "count  31412.000000  ...  29314.000000  3011.000000  25450.000000   \n",
       "mean      24.154137  ...     11.973255   288.601860    200.398495   \n",
       "std        4.365466  ...      8.188072   154.653572    110.570091   \n",
       "min        5.000000  ...      0.100000    50.000000      5.000000   \n",
       "25%       22.000000  ...      8.100000   184.000000    126.000000   \n",
       "50%       24.000000  ...     10.900000   248.000000    182.000000   \n",
       "75%       27.000000  ...     14.400000   350.000000    247.000000   \n",
       "max       55.000000  ...    422.900000  1760.000000   1783.000000   \n",
       "\n",
       "                 Age         Gender          Unit1          Unit2  \\\n",
       "count  391894.000000  391894.000000  202535.000000  202535.000000   \n",
       "mean       63.126926       0.578279       0.498393       0.501607   \n",
       "std        16.052765       0.493835       0.499999       0.499999   \n",
       "min        18.110000       0.000000       0.000000       0.000000   \n",
       "25%        52.970000       0.000000       0.000000       0.000000   \n",
       "50%        65.230000       1.000000       0.000000       1.000000   \n",
       "75%        75.980000       1.000000       1.000000       1.000000   \n",
       "max        88.990000       1.000000       1.000000       1.000000   \n",
       "\n",
       "         HospAdmTime         ICULOS    SepsisLabel  \n",
       "count  391886.000000  391894.000000  391894.000000  \n",
       "mean      -50.650422      28.220123       0.022570  \n",
       "std       143.216568      30.869579       0.148528  \n",
       "min     -3710.660000       1.000000       0.000000  \n",
       "25%       -38.140000      11.000000       0.000000  \n",
       "50%        -2.720000      22.000000       0.000000  \n",
       "75%        -0.020000      35.000000       0.000000  \n",
       "max        23.990000     336.000000       1.000000  \n",
       "\n",
       "[8 rows x 41 columns]"
      ]
     },
     "execution_count": 6,
     "metadata": {},
     "output_type": "execute_result"
    }
   ],
   "source": [
    "data.describe()"
   ]
  },
  {
   "cell_type": "code",
   "execution_count": 7,
   "metadata": {
    "scrolled": true
   },
   "outputs": [
    {
     "data": {
      "text/html": [
       "<div>\n",
       "<style scoped>\n",
       "    .dataframe tbody tr th:only-of-type {\n",
       "        vertical-align: middle;\n",
       "    }\n",
       "\n",
       "    .dataframe tbody tr th {\n",
       "        vertical-align: top;\n",
       "    }\n",
       "\n",
       "    .dataframe thead th {\n",
       "        text-align: right;\n",
       "    }\n",
       "</style>\n",
       "<table border=\"1\" class=\"dataframe\">\n",
       "  <thead>\n",
       "    <tr style=\"text-align: right;\">\n",
       "      <th></th>\n",
       "      <th>HR</th>\n",
       "      <th>O2Sat</th>\n",
       "      <th>Temp</th>\n",
       "      <th>SBP</th>\n",
       "      <th>MAP</th>\n",
       "      <th>DBP</th>\n",
       "      <th>Resp</th>\n",
       "      <th>EtCO2</th>\n",
       "      <th>BaseExcess</th>\n",
       "      <th>HCO3</th>\n",
       "      <th>...</th>\n",
       "      <th>WBC</th>\n",
       "      <th>Fibrinogen</th>\n",
       "      <th>Platelets</th>\n",
       "      <th>Age</th>\n",
       "      <th>Gender</th>\n",
       "      <th>Unit1</th>\n",
       "      <th>Unit2</th>\n",
       "      <th>HospAdmTime</th>\n",
       "      <th>ICULOS</th>\n",
       "      <th>SepsisLabel</th>\n",
       "    </tr>\n",
       "  </thead>\n",
       "  <tbody>\n",
       "    <tr>\n",
       "      <th>0</th>\n",
       "      <td>NaN</td>\n",
       "      <td>NaN</td>\n",
       "      <td>NaN</td>\n",
       "      <td>NaN</td>\n",
       "      <td>NaN</td>\n",
       "      <td>NaN</td>\n",
       "      <td>NaN</td>\n",
       "      <td>NaN</td>\n",
       "      <td>NaN</td>\n",
       "      <td>NaN</td>\n",
       "      <td>...</td>\n",
       "      <td>NaN</td>\n",
       "      <td>NaN</td>\n",
       "      <td>NaN</td>\n",
       "      <td>45.73</td>\n",
       "      <td>0</td>\n",
       "      <td>NaN</td>\n",
       "      <td>NaN</td>\n",
       "      <td>-5.03</td>\n",
       "      <td>1</td>\n",
       "      <td>0</td>\n",
       "    </tr>\n",
       "    <tr>\n",
       "      <th>1</th>\n",
       "      <td>79.0</td>\n",
       "      <td>100.0</td>\n",
       "      <td>NaN</td>\n",
       "      <td>138.0</td>\n",
       "      <td>101.0</td>\n",
       "      <td>77.0</td>\n",
       "      <td>18.0</td>\n",
       "      <td>NaN</td>\n",
       "      <td>NaN</td>\n",
       "      <td>NaN</td>\n",
       "      <td>...</td>\n",
       "      <td>NaN</td>\n",
       "      <td>NaN</td>\n",
       "      <td>NaN</td>\n",
       "      <td>45.73</td>\n",
       "      <td>0</td>\n",
       "      <td>NaN</td>\n",
       "      <td>NaN</td>\n",
       "      <td>-5.03</td>\n",
       "      <td>2</td>\n",
       "      <td>0</td>\n",
       "    </tr>\n",
       "    <tr>\n",
       "      <th>2</th>\n",
       "      <td>88.0</td>\n",
       "      <td>100.0</td>\n",
       "      <td>NaN</td>\n",
       "      <td>130.0</td>\n",
       "      <td>97.0</td>\n",
       "      <td>75.0</td>\n",
       "      <td>17.0</td>\n",
       "      <td>NaN</td>\n",
       "      <td>NaN</td>\n",
       "      <td>NaN</td>\n",
       "      <td>...</td>\n",
       "      <td>NaN</td>\n",
       "      <td>NaN</td>\n",
       "      <td>NaN</td>\n",
       "      <td>45.73</td>\n",
       "      <td>0</td>\n",
       "      <td>NaN</td>\n",
       "      <td>NaN</td>\n",
       "      <td>-5.03</td>\n",
       "      <td>3</td>\n",
       "      <td>0</td>\n",
       "    </tr>\n",
       "    <tr>\n",
       "      <th>3</th>\n",
       "      <td>94.0</td>\n",
       "      <td>99.0</td>\n",
       "      <td>36.11</td>\n",
       "      <td>136.0</td>\n",
       "      <td>101.0</td>\n",
       "      <td>79.0</td>\n",
       "      <td>16.0</td>\n",
       "      <td>NaN</td>\n",
       "      <td>NaN</td>\n",
       "      <td>NaN</td>\n",
       "      <td>...</td>\n",
       "      <td>NaN</td>\n",
       "      <td>NaN</td>\n",
       "      <td>NaN</td>\n",
       "      <td>45.73</td>\n",
       "      <td>0</td>\n",
       "      <td>NaN</td>\n",
       "      <td>NaN</td>\n",
       "      <td>-5.03</td>\n",
       "      <td>4</td>\n",
       "      <td>0</td>\n",
       "    </tr>\n",
       "    <tr>\n",
       "      <th>4</th>\n",
       "      <td>74.0</td>\n",
       "      <td>99.0</td>\n",
       "      <td>NaN</td>\n",
       "      <td>119.0</td>\n",
       "      <td>88.0</td>\n",
       "      <td>66.0</td>\n",
       "      <td>13.0</td>\n",
       "      <td>NaN</td>\n",
       "      <td>NaN</td>\n",
       "      <td>NaN</td>\n",
       "      <td>...</td>\n",
       "      <td>NaN</td>\n",
       "      <td>NaN</td>\n",
       "      <td>NaN</td>\n",
       "      <td>45.73</td>\n",
       "      <td>0</td>\n",
       "      <td>NaN</td>\n",
       "      <td>NaN</td>\n",
       "      <td>-5.03</td>\n",
       "      <td>5</td>\n",
       "      <td>0</td>\n",
       "    </tr>\n",
       "  </tbody>\n",
       "</table>\n",
       "<p>5 rows × 41 columns</p>\n",
       "</div>"
      ],
      "text/plain": [
       "     HR  O2Sat   Temp    SBP    MAP   DBP  Resp  EtCO2  BaseExcess  HCO3  ...  \\\n",
       "0   NaN    NaN    NaN    NaN    NaN   NaN   NaN    NaN         NaN   NaN  ...   \n",
       "1  79.0  100.0    NaN  138.0  101.0  77.0  18.0    NaN         NaN   NaN  ...   \n",
       "2  88.0  100.0    NaN  130.0   97.0  75.0  17.0    NaN         NaN   NaN  ...   \n",
       "3  94.0   99.0  36.11  136.0  101.0  79.0  16.0    NaN         NaN   NaN  ...   \n",
       "4  74.0   99.0    NaN  119.0   88.0  66.0  13.0    NaN         NaN   NaN  ...   \n",
       "\n",
       "   WBC  Fibrinogen  Platelets    Age  Gender  Unit1  Unit2  HospAdmTime  \\\n",
       "0  NaN         NaN        NaN  45.73       0    NaN    NaN        -5.03   \n",
       "1  NaN         NaN        NaN  45.73       0    NaN    NaN        -5.03   \n",
       "2  NaN         NaN        NaN  45.73       0    NaN    NaN        -5.03   \n",
       "3  NaN         NaN        NaN  45.73       0    NaN    NaN        -5.03   \n",
       "4  NaN         NaN        NaN  45.73       0    NaN    NaN        -5.03   \n",
       "\n",
       "   ICULOS  SepsisLabel  \n",
       "0       1            0  \n",
       "1       2            0  \n",
       "2       3            0  \n",
       "3       4            0  \n",
       "4       5            0  \n",
       "\n",
       "[5 rows x 41 columns]"
      ]
     },
     "execution_count": 7,
     "metadata": {},
     "output_type": "execute_result"
    }
   ],
   "source": [
    "data.head()"
   ]
  },
  {
   "cell_type": "code",
   "execution_count": 11,
   "metadata": {},
   "outputs": [
    {
     "data": {
      "text/plain": [
       "101      -3.0\n",
       "104      -5.0\n",
       "107      -4.0\n",
       "108      -3.0\n",
       "110      -5.0\n",
       "         ... \n",
       "391874   -2.0\n",
       "391876   -2.0\n",
       "391881   -2.0\n",
       "391883   -2.0\n",
       "391885   -1.0\n",
       "Name: BaseExcess, Length: 40763, dtype: float64"
      ]
     },
     "execution_count": 11,
     "metadata": {},
     "output_type": "execute_result"
    }
   ],
   "source": [
    "data[data['BaseExcess'].notnull()].BaseExcess"
   ]
  },
  {
   "cell_type": "code",
   "execution_count": 8,
   "metadata": {},
   "outputs": [
    {
     "data": {
      "text/plain": [
       "SepsisLabel\n",
       "0    383049\n",
       "1      8845\n",
       "dtype: int64"
      ]
     },
     "execution_count": 8,
     "metadata": {},
     "output_type": "execute_result"
    }
   ],
   "source": [
    "data.value_counts('SepsisLabel')"
   ]
  },
  {
   "cell_type": "code",
   "execution_count": 9,
   "metadata": {},
   "outputs": [
    {
     "data": {
      "image/png": "[encoded data removed]",
      "text/plain": [
       "<Figure size 432x288 with 1 Axes>"
      ]
     },
     "metadata": {
      "needs_background": "light"
     },
     "output_type": "display_data"
    }
   ],
   "source": [
    "sns.countplot(x='SepsisLabel',data=data)\n",
    "plt.show()"
   ]
  },
  {
   "cell_type": "markdown",
   "metadata": {},
   "source": [
    "<h1><b>Data pre-processing\n",
    "    </h1></b>"
   ]
  },
  {
   "cell_type": "markdown",
   "metadata": {},
   "source": [
    "<h2><b>Handling Imbalancedness\n",
    "    </h2></b>"
   ]
  },
  {
   "cell_type": "markdown",
   "metadata": {},
   "source": [
    "<h2><b>Createing Synthetic Data points for the Minority Class</h2></b>"
   ]
  },
  {
   "cell_type": "code",
   "execution_count": 12,
   "metadata": {},
   "outputs": [],
   "source": [
    "positive_data=data[data.SepsisLabel==1]\n",
    "negative_data=data[data.SepsisLabel==0]"
   ]
  },
  {
   "cell_type": "code",
   "execution_count": 13,
   "metadata": {},
   "outputs": [],
   "source": [
    "upsampled=resample(positive_data,replace=True,n_samples=negative_data.shape[0])"
   ]
  },
  {
   "cell_type": "code",
   "execution_count": 14,
   "metadata": {},
   "outputs": [
    {
     "data": {
      "text/plain": [
       "(383049, 41)"
      ]
     },
     "execution_count": 14,
     "metadata": {},
     "output_type": "execute_result"
    }
   ],
   "source": [
    "upsampled.shape"
   ]
  },
  {
   "cell_type": "code",
   "execution_count": 15,
   "metadata": {},
   "outputs": [],
   "source": [
    "upsampled_data=pd.concat([negative_data,upsampled])"
   ]
  },
  {
   "cell_type": "code",
   "execution_count": 16,
   "metadata": {},
   "outputs": [
    {
     "data": {
      "text/plain": [
       "(766098, 41)"
      ]
     },
     "execution_count": 16,
     "metadata": {},
     "output_type": "execute_result"
    }
   ],
   "source": [
    "upsampled_data.shape"
   ]
  },
  {
   "cell_type": "code",
   "execution_count": 17,
   "metadata": {},
   "outputs": [
    {
     "data": {
      "text/plain": [
       "SepsisLabel\n",
       "0    383049\n",
       "1    383049\n",
       "dtype: int64"
      ]
     },
     "execution_count": 17,
     "metadata": {},
     "output_type": "execute_result"
    }
   ],
   "source": [
    "upsampled_data.value_counts('SepsisLabel')"
   ]
  },
  {
   "cell_type": "code",
   "execution_count": 18,
   "metadata": {},
   "outputs": [
    {
     "data": {
      "image/png": "[encoded data removed]",
      "text/plain": [
       "<Figure size 432x288 with 1 Axes>"
      ]
     },
     "metadata": {
      "needs_background": "light"
     },
     "output_type": "display_data"
    }
   ],
   "source": [
    "sns.countplot(x='SepsisLabel',data=upsampled_data)\n",
    "plt.show()"
   ]
  },
  {
   "cell_type": "code",
   "execution_count": 19,
   "metadata": {},
   "outputs": [
    {
     "data": {
      "text/html": [
       "<div>\n",
       "<style scoped>\n",
       "    .dataframe tbody tr th:only-of-type {\n",
       "        vertical-align: middle;\n",
       "    }\n",
       "\n",
       "    .dataframe tbody tr th {\n",
       "        vertical-align: top;\n",
       "    }\n",
       "\n",
       "    .dataframe thead th {\n",
       "        text-align: right;\n",
       "    }\n",
       "</style>\n",
       "<table border=\"1\" class=\"dataframe\">\n",
       "  <thead>\n",
       "    <tr style=\"text-align: right;\">\n",
       "      <th></th>\n",
       "      <th>HR</th>\n",
       "      <th>O2Sat</th>\n",
       "      <th>Temp</th>\n",
       "      <th>SBP</th>\n",
       "      <th>MAP</th>\n",
       "      <th>DBP</th>\n",
       "      <th>Resp</th>\n",
       "      <th>EtCO2</th>\n",
       "      <th>BaseExcess</th>\n",
       "      <th>HCO3</th>\n",
       "      <th>...</th>\n",
       "      <th>WBC</th>\n",
       "      <th>Fibrinogen</th>\n",
       "      <th>Platelets</th>\n",
       "      <th>Age</th>\n",
       "      <th>Gender</th>\n",
       "      <th>Unit1</th>\n",
       "      <th>Unit2</th>\n",
       "      <th>HospAdmTime</th>\n",
       "      <th>ICULOS</th>\n",
       "      <th>SepsisLabel</th>\n",
       "    </tr>\n",
       "  </thead>\n",
       "  <tbody>\n",
       "    <tr>\n",
       "      <th>0</th>\n",
       "      <td>NaN</td>\n",
       "      <td>NaN</td>\n",
       "      <td>NaN</td>\n",
       "      <td>NaN</td>\n",
       "      <td>NaN</td>\n",
       "      <td>NaN</td>\n",
       "      <td>NaN</td>\n",
       "      <td>NaN</td>\n",
       "      <td>NaN</td>\n",
       "      <td>NaN</td>\n",
       "      <td>...</td>\n",
       "      <td>NaN</td>\n",
       "      <td>NaN</td>\n",
       "      <td>NaN</td>\n",
       "      <td>45.73</td>\n",
       "      <td>0</td>\n",
       "      <td>NaN</td>\n",
       "      <td>NaN</td>\n",
       "      <td>-5.03</td>\n",
       "      <td>1</td>\n",
       "      <td>0</td>\n",
       "    </tr>\n",
       "    <tr>\n",
       "      <th>1</th>\n",
       "      <td>79.0</td>\n",
       "      <td>100.0</td>\n",
       "      <td>NaN</td>\n",
       "      <td>138.0</td>\n",
       "      <td>101.0</td>\n",
       "      <td>77.0</td>\n",
       "      <td>18.0</td>\n",
       "      <td>NaN</td>\n",
       "      <td>NaN</td>\n",
       "      <td>NaN</td>\n",
       "      <td>...</td>\n",
       "      <td>NaN</td>\n",
       "      <td>NaN</td>\n",
       "      <td>NaN</td>\n",
       "      <td>45.73</td>\n",
       "      <td>0</td>\n",
       "      <td>NaN</td>\n",
       "      <td>NaN</td>\n",
       "      <td>-5.03</td>\n",
       "      <td>2</td>\n",
       "      <td>0</td>\n",
       "    </tr>\n",
       "    <tr>\n",
       "      <th>2</th>\n",
       "      <td>88.0</td>\n",
       "      <td>100.0</td>\n",
       "      <td>NaN</td>\n",
       "      <td>130.0</td>\n",
       "      <td>97.0</td>\n",
       "      <td>75.0</td>\n",
       "      <td>17.0</td>\n",
       "      <td>NaN</td>\n",
       "      <td>NaN</td>\n",
       "      <td>NaN</td>\n",
       "      <td>...</td>\n",
       "      <td>NaN</td>\n",
       "      <td>NaN</td>\n",
       "      <td>NaN</td>\n",
       "      <td>45.73</td>\n",
       "      <td>0</td>\n",
       "      <td>NaN</td>\n",
       "      <td>NaN</td>\n",
       "      <td>-5.03</td>\n",
       "      <td>3</td>\n",
       "      <td>0</td>\n",
       "    </tr>\n",
       "    <tr>\n",
       "      <th>3</th>\n",
       "      <td>94.0</td>\n",
       "      <td>99.0</td>\n",
       "      <td>36.11</td>\n",
       "      <td>136.0</td>\n",
       "      <td>101.0</td>\n",
       "      <td>79.0</td>\n",
       "      <td>16.0</td>\n",
       "      <td>NaN</td>\n",
       "      <td>NaN</td>\n",
       "      <td>NaN</td>\n",
       "      <td>...</td>\n",
       "      <td>NaN</td>\n",
       "      <td>NaN</td>\n",
       "      <td>NaN</td>\n",
       "      <td>45.73</td>\n",
       "      <td>0</td>\n",
       "      <td>NaN</td>\n",
       "      <td>NaN</td>\n",
       "      <td>-5.03</td>\n",
       "      <td>4</td>\n",
       "      <td>0</td>\n",
       "    </tr>\n",
       "    <tr>\n",
       "      <th>4</th>\n",
       "      <td>74.0</td>\n",
       "      <td>99.0</td>\n",
       "      <td>NaN</td>\n",
       "      <td>119.0</td>\n",
       "      <td>88.0</td>\n",
       "      <td>66.0</td>\n",
       "      <td>13.0</td>\n",
       "      <td>NaN</td>\n",
       "      <td>NaN</td>\n",
       "      <td>NaN</td>\n",
       "      <td>...</td>\n",
       "      <td>NaN</td>\n",
       "      <td>NaN</td>\n",
       "      <td>NaN</td>\n",
       "      <td>45.73</td>\n",
       "      <td>0</td>\n",
       "      <td>NaN</td>\n",
       "      <td>NaN</td>\n",
       "      <td>-5.03</td>\n",
       "      <td>5</td>\n",
       "      <td>0</td>\n",
       "    </tr>\n",
       "  </tbody>\n",
       "</table>\n",
       "<p>5 rows × 41 columns</p>\n",
       "</div>"
      ],
      "text/plain": [
       "     HR  O2Sat   Temp    SBP    MAP   DBP  Resp  EtCO2  BaseExcess  HCO3  ...  \\\n",
       "0   NaN    NaN    NaN    NaN    NaN   NaN   NaN    NaN         NaN   NaN  ...   \n",
       "1  79.0  100.0    NaN  138.0  101.0  77.0  18.0    NaN         NaN   NaN  ...   \n",
       "2  88.0  100.0    NaN  130.0   97.0  75.0  17.0    NaN         NaN   NaN  ...   \n",
       "3  94.0   99.0  36.11  136.0  101.0  79.0  16.0    NaN         NaN   NaN  ...   \n",
       "4  74.0   99.0    NaN  119.0   88.0  66.0  13.0    NaN         NaN   NaN  ...   \n",
       "\n",
       "   WBC  Fibrinogen  Platelets    Age  Gender  Unit1  Unit2  HospAdmTime  \\\n",
       "0  NaN         NaN        NaN  45.73       0    NaN    NaN        -5.03   \n",
       "1  NaN         NaN        NaN  45.73       0    NaN    NaN        -5.03   \n",
       "2  NaN         NaN        NaN  45.73       0    NaN    NaN        -5.03   \n",
       "3  NaN         NaN        NaN  45.73       0    NaN    NaN        -5.03   \n",
       "4  NaN         NaN        NaN  45.73       0    NaN    NaN        -5.03   \n",
       "\n",
       "   ICULOS  SepsisLabel  \n",
       "0       1            0  \n",
       "1       2            0  \n",
       "2       3            0  \n",
       "3       4            0  \n",
       "4       5            0  \n",
       "\n",
       "[5 rows x 41 columns]"
      ]
     },
     "execution_count": 19,
     "metadata": {},
     "output_type": "execute_result"
    }
   ],
   "source": [
    "upsampled_data.head()"
   ]
  },
  {
   "cell_type": "markdown",
   "metadata": {},
   "source": [
    "<h2><b>Handling Missing Values</h2></b>"
   ]
  },
  {
   "cell_type": "code",
   "execution_count": 18,
   "metadata": {
    "colab": {
     "base_uri": "https://localhost:8080/",
     "height": 406
    },
    "id": "XJuzjYn9cd1l",
    "outputId": "873b3714-960c-45a8-d56e-8c25d89ede06"
   },
   "outputs": [
    {
     "data": {
      "image/png": "[encoded data removed]",
      "text/plain": [
       "<Figure size 432x288 with 1 Axes>"
      ]
     },
     "metadata": {
      "needs_background": "light"
     },
     "output_type": "display_data"
    }
   ],
   "source": [
    "sns.heatmap(upsampled_data.isnull(), cbar=False)\n",
    "plt.show()"
   ]
  },
  {
   "cell_type": "code",
   "execution_count": 20,
   "metadata": {
    "colab": {
     "base_uri": "https://localhost:8080/"
    },
    "id": "fQDnwJCNchJt",
    "outputId": "14c41a62-61ab-498c-e55d-db7d0f9fa6a0"
   },
   "outputs": [
    {
     "data": {
      "text/plain": [
       "HR                    7.317341\n",
       "O2Sat                11.171417\n",
       "Temp                 67.021974\n",
       "SBP                  16.637819\n",
       "MAP                   9.419160\n",
       "DBP                  44.476294\n",
       "Resp                  8.977180\n",
       "EtCO2               100.000000\n",
       "BaseExcess           86.604977\n",
       "HCO3                 91.136251\n",
       "FiO2                 80.778177\n",
       "pH                   85.829881\n",
       "PaCO2                88.896721\n",
       "SaO2                 94.354247\n",
       "AST                  97.837875\n",
       "BUN                  91.073335\n",
       "Alkalinephos         97.862023\n",
       "Calcium              94.248647\n",
       "Chloride             90.909779\n",
       "Creatinine           92.843083\n",
       "Bilirubin_direct     99.814254\n",
       "Glucose              87.549635\n",
       "Lactate              94.570799\n",
       "Magnesium            91.240677\n",
       "Phosphate            94.129733\n",
       "Potassium            88.163655\n",
       "Bilirubin_total      98.251268\n",
       "TroponinI            99.896488\n",
       "Hct                  87.987177\n",
       "Hgb                  90.555516\n",
       "PTT                  94.658908\n",
       "WBC                  91.992408\n",
       "Fibrinogen           98.977154\n",
       "Platelets            93.166801\n",
       "Age                   0.000000\n",
       "Gender                0.000000\n",
       "Unit1                51.584523\n",
       "Unit2                51.584523\n",
       "HospAdmTime           0.001044\n",
       "ICULOS                0.000000\n",
       "SepsisLabel           0.000000\n",
       "dtype: float64"
      ]
     },
     "execution_count": 20,
     "metadata": {},
     "output_type": "execute_result"
    }
   ],
   "source": [
    "missing = (upsampled_data.isnull().sum() / upsampled_data.shape[0]) * 100\n",
    "missing"
   ]
  },
  {
   "cell_type": "code",
   "execution_count": 21,
   "metadata": {
    "colab": {
     "base_uri": "https://localhost:8080/",
     "height": 418
    },
    "id": "y_UaF6UbcmFF",
    "outputId": "824bd70a-f412-4a09-bd88-188c736b4eb8"
   },
   "outputs": [
    {
     "data": {
      "image/png": "[encoded data removed]",
      "text/plain": [
       "<Figure size 1080x360 with 1 Axes>"
      ]
     },
     "metadata": {
      "needs_background": "light"
     },
     "output_type": "display_data"
    }
   ],
   "source": [
    "plt.figure(figsize=(15,5))\n",
    "plt.bar(upsampled_data.columns,height=list(missing))\n",
    "plt.xticks(\n",
    "    rotation=45, \n",
    "    horizontalalignment='right',\n",
    "    fontweight='light',\n",
    "    fontsize='x-large'  \n",
    ")\n",
    "plt.show()"
   ]
  },
  {
   "cell_type": "code",
   "execution_count": 22,
   "metadata": {
    "colab": {
     "base_uri": "https://localhost:8080/"
    },
    "id": "DvjCYbTVcmDG",
    "outputId": "6b7edeff-cef1-4d74-837c-050ee9df697c"
   },
   "outputs": [
    {
     "data": {
      "text/plain": [
       "['HR',\n",
       " 'O2Sat',\n",
       " 'Temp',\n",
       " 'SBP',\n",
       " 'MAP',\n",
       " 'DBP',\n",
       " 'Resp',\n",
       " 'BaseExcess',\n",
       " 'FiO2',\n",
       " 'pH',\n",
       " 'PaCO2',\n",
       " 'Glucose',\n",
       " 'Potassium',\n",
       " 'Hct',\n",
       " 'Age',\n",
       " 'Gender',\n",
       " 'Unit1',\n",
       " 'Unit2',\n",
       " 'HospAdmTime',\n",
       " 'ICULOS',\n",
       " 'SepsisLabel']"
      ]
     },
     "execution_count": 22,
     "metadata": {},
     "output_type": "execute_result"
    }
   ],
   "source": [
    "selected_cols = list(missing[missing < 90].index)\n",
    "selected_cols"
   ]
  },
  {
   "cell_type": "code",
   "execution_count": 23,
   "metadata": {
    "colab": {
     "base_uri": "https://localhost:8080/",
     "height": 215
    },
    "id": "hS2IM9MrcmA9",
    "outputId": "b1c4e6a1-3bfa-4c16-a407-735cd1a91371"
   },
   "outputs": [],
   "source": [
    "filtered_data = upsampled_data[selected_cols]"
   ]
  },
  {
   "cell_type": "code",
   "execution_count": 24,
   "metadata": {
    "scrolled": true
   },
   "outputs": [
    {
     "data": {
      "text/html": [
       "<div>\n",
       "<style scoped>\n",
       "    .dataframe tbody tr th:only-of-type {\n",
       "        vertical-align: middle;\n",
       "    }\n",
       "\n",
       "    .dataframe tbody tr th {\n",
       "        vertical-align: top;\n",
       "    }\n",
       "\n",
       "    .dataframe thead th {\n",
       "        text-align: right;\n",
       "    }\n",
       "</style>\n",
       "<table border=\"1\" class=\"dataframe\">\n",
       "  <thead>\n",
       "    <tr style=\"text-align: right;\">\n",
       "      <th></th>\n",
       "      <th>HR</th>\n",
       "      <th>O2Sat</th>\n",
       "      <th>Temp</th>\n",
       "      <th>SBP</th>\n",
       "      <th>MAP</th>\n",
       "      <th>DBP</th>\n",
       "      <th>Resp</th>\n",
       "      <th>BaseExcess</th>\n",
       "      <th>FiO2</th>\n",
       "      <th>pH</th>\n",
       "      <th>...</th>\n",
       "      <th>Glucose</th>\n",
       "      <th>Potassium</th>\n",
       "      <th>Hct</th>\n",
       "      <th>Age</th>\n",
       "      <th>Gender</th>\n",
       "      <th>Unit1</th>\n",
       "      <th>Unit2</th>\n",
       "      <th>HospAdmTime</th>\n",
       "      <th>ICULOS</th>\n",
       "      <th>SepsisLabel</th>\n",
       "    </tr>\n",
       "  </thead>\n",
       "  <tbody>\n",
       "    <tr>\n",
       "      <th>0</th>\n",
       "      <td>NaN</td>\n",
       "      <td>NaN</td>\n",
       "      <td>NaN</td>\n",
       "      <td>NaN</td>\n",
       "      <td>NaN</td>\n",
       "      <td>NaN</td>\n",
       "      <td>NaN</td>\n",
       "      <td>NaN</td>\n",
       "      <td>NaN</td>\n",
       "      <td>NaN</td>\n",
       "      <td>...</td>\n",
       "      <td>NaN</td>\n",
       "      <td>NaN</td>\n",
       "      <td>NaN</td>\n",
       "      <td>45.73</td>\n",
       "      <td>0</td>\n",
       "      <td>NaN</td>\n",
       "      <td>NaN</td>\n",
       "      <td>-5.03</td>\n",
       "      <td>1</td>\n",
       "      <td>0</td>\n",
       "    </tr>\n",
       "    <tr>\n",
       "      <th>1</th>\n",
       "      <td>79.0</td>\n",
       "      <td>100.0</td>\n",
       "      <td>NaN</td>\n",
       "      <td>138.0</td>\n",
       "      <td>101.0</td>\n",
       "      <td>77.0</td>\n",
       "      <td>18.0</td>\n",
       "      <td>NaN</td>\n",
       "      <td>NaN</td>\n",
       "      <td>NaN</td>\n",
       "      <td>...</td>\n",
       "      <td>NaN</td>\n",
       "      <td>NaN</td>\n",
       "      <td>NaN</td>\n",
       "      <td>45.73</td>\n",
       "      <td>0</td>\n",
       "      <td>NaN</td>\n",
       "      <td>NaN</td>\n",
       "      <td>-5.03</td>\n",
       "      <td>2</td>\n",
       "      <td>0</td>\n",
       "    </tr>\n",
       "    <tr>\n",
       "      <th>2</th>\n",
       "      <td>88.0</td>\n",
       "      <td>100.0</td>\n",
       "      <td>NaN</td>\n",
       "      <td>130.0</td>\n",
       "      <td>97.0</td>\n",
       "      <td>75.0</td>\n",
       "      <td>17.0</td>\n",
       "      <td>NaN</td>\n",
       "      <td>NaN</td>\n",
       "      <td>NaN</td>\n",
       "      <td>...</td>\n",
       "      <td>NaN</td>\n",
       "      <td>NaN</td>\n",
       "      <td>NaN</td>\n",
       "      <td>45.73</td>\n",
       "      <td>0</td>\n",
       "      <td>NaN</td>\n",
       "      <td>NaN</td>\n",
       "      <td>-5.03</td>\n",
       "      <td>3</td>\n",
       "      <td>0</td>\n",
       "    </tr>\n",
       "    <tr>\n",
       "      <th>3</th>\n",
       "      <td>94.0</td>\n",
       "      <td>99.0</td>\n",
       "      <td>36.11</td>\n",
       "      <td>136.0</td>\n",
       "      <td>101.0</td>\n",
       "      <td>79.0</td>\n",
       "      <td>16.0</td>\n",
       "      <td>NaN</td>\n",
       "      <td>NaN</td>\n",
       "      <td>NaN</td>\n",
       "      <td>...</td>\n",
       "      <td>NaN</td>\n",
       "      <td>NaN</td>\n",
       "      <td>NaN</td>\n",
       "      <td>45.73</td>\n",
       "      <td>0</td>\n",
       "      <td>NaN</td>\n",
       "      <td>NaN</td>\n",
       "      <td>-5.03</td>\n",
       "      <td>4</td>\n",
       "      <td>0</td>\n",
       "    </tr>\n",
       "    <tr>\n",
       "      <th>4</th>\n",
       "      <td>74.0</td>\n",
       "      <td>99.0</td>\n",
       "      <td>NaN</td>\n",
       "      <td>119.0</td>\n",
       "      <td>88.0</td>\n",
       "      <td>66.0</td>\n",
       "      <td>13.0</td>\n",
       "      <td>NaN</td>\n",
       "      <td>NaN</td>\n",
       "      <td>NaN</td>\n",
       "      <td>...</td>\n",
       "      <td>NaN</td>\n",
       "      <td>NaN</td>\n",
       "      <td>NaN</td>\n",
       "      <td>45.73</td>\n",
       "      <td>0</td>\n",
       "      <td>NaN</td>\n",
       "      <td>NaN</td>\n",
       "      <td>-5.03</td>\n",
       "      <td>5</td>\n",
       "      <td>0</td>\n",
       "    </tr>\n",
       "  </tbody>\n",
       "</table>\n",
       "<p>5 rows × 21 columns</p>\n",
       "</div>"
      ],
      "text/plain": [
       "     HR  O2Sat   Temp    SBP    MAP   DBP  Resp  BaseExcess  FiO2  pH  ...  \\\n",
       "0   NaN    NaN    NaN    NaN    NaN   NaN   NaN         NaN   NaN NaN  ...   \n",
       "1  79.0  100.0    NaN  138.0  101.0  77.0  18.0         NaN   NaN NaN  ...   \n",
       "2  88.0  100.0    NaN  130.0   97.0  75.0  17.0         NaN   NaN NaN  ...   \n",
       "3  94.0   99.0  36.11  136.0  101.0  79.0  16.0         NaN   NaN NaN  ...   \n",
       "4  74.0   99.0    NaN  119.0   88.0  66.0  13.0         NaN   NaN NaN  ...   \n",
       "\n",
       "   Glucose  Potassium  Hct    Age  Gender  Unit1  Unit2  HospAdmTime  ICULOS  \\\n",
       "0      NaN        NaN  NaN  45.73       0    NaN    NaN        -5.03       1   \n",
       "1      NaN        NaN  NaN  45.73       0    NaN    NaN        -5.03       2   \n",
       "2      NaN        NaN  NaN  45.73       0    NaN    NaN        -5.03       3   \n",
       "3      NaN        NaN  NaN  45.73       0    NaN    NaN        -5.03       4   \n",
       "4      NaN        NaN  NaN  45.73       0    NaN    NaN        -5.03       5   \n",
       "\n",
       "   SepsisLabel  \n",
       "0            0  \n",
       "1            0  \n",
       "2            0  \n",
       "3            0  \n",
       "4            0  \n",
       "\n",
       "[5 rows x 21 columns]"
      ]
     },
     "execution_count": 24,
     "metadata": {},
     "output_type": "execute_result"
    }
   ],
   "source": [
    "filtered_data.head()"
   ]
  },
  {
   "cell_type": "markdown",
   "metadata": {},
   "source": [
    "<h2><b>Imputing Missing Values</h2></b>"
   ]
  },
  {
   "cell_type": "code",
   "execution_count": 25,
   "metadata": {},
   "outputs": [],
   "source": [
    "def impute_missing_vals(df, attributes):\n",
    "    df_clean = df.copy()\n",
    "    for att in attributes:\n",
    "        if df_clean[att].isnull().sum() == len(df_clean):\n",
    "            df_clean[att] = df_clean[att].fillna(0)\n",
    "        elif df_clean[att].isnull().sum() == len(df_clean) - 1:\n",
    "            df_clean[att] = df_clean[att].ffill().bfill()\n",
    "        else:\n",
    "            df_clean[att] = df_clean[att].interpolate(method='nearest', limit_direction='both')\n",
    "            df_clean[att] = df_clean[att].ffill().bfill()\n",
    "    \n",
    "    return df_clean"
   ]
  },
  {
   "cell_type": "code",
   "execution_count": 26,
   "metadata": {},
   "outputs": [],
   "source": [
    "imputed_df=impute_missing_vals(filtered_data,filtered_data.columns)"
   ]
  },
  {
   "cell_type": "code",
   "execution_count": 27,
   "metadata": {},
   "outputs": [
    {
     "data": {
      "text/html": [
       "<div>\n",
       "<style scoped>\n",
       "    .dataframe tbody tr th:only-of-type {\n",
       "        vertical-align: middle;\n",
       "    }\n",
       "\n",
       "    .dataframe tbody tr th {\n",
       "        vertical-align: top;\n",
       "    }\n",
       "\n",
       "    .dataframe thead th {\n",
       "        text-align: right;\n",
       "    }\n",
       "</style>\n",
       "<table border=\"1\" class=\"dataframe\">\n",
       "  <thead>\n",
       "    <tr style=\"text-align: right;\">\n",
       "      <th></th>\n",
       "      <th>HR</th>\n",
       "      <th>O2Sat</th>\n",
       "      <th>Temp</th>\n",
       "      <th>SBP</th>\n",
       "      <th>MAP</th>\n",
       "      <th>DBP</th>\n",
       "      <th>Resp</th>\n",
       "      <th>BaseExcess</th>\n",
       "      <th>FiO2</th>\n",
       "      <th>pH</th>\n",
       "      <th>...</th>\n",
       "      <th>Glucose</th>\n",
       "      <th>Potassium</th>\n",
       "      <th>Hct</th>\n",
       "      <th>Age</th>\n",
       "      <th>Gender</th>\n",
       "      <th>Unit1</th>\n",
       "      <th>Unit2</th>\n",
       "      <th>HospAdmTime</th>\n",
       "      <th>ICULOS</th>\n",
       "      <th>SepsisLabel</th>\n",
       "    </tr>\n",
       "  </thead>\n",
       "  <tbody>\n",
       "    <tr>\n",
       "      <th>0</th>\n",
       "      <td>79.0</td>\n",
       "      <td>100.0</td>\n",
       "      <td>36.11</td>\n",
       "      <td>138.0</td>\n",
       "      <td>101.0</td>\n",
       "      <td>77.0</td>\n",
       "      <td>18.0</td>\n",
       "      <td>-3.0</td>\n",
       "      <td>1.0</td>\n",
       "      <td>7.35</td>\n",
       "      <td>...</td>\n",
       "      <td>154.0</td>\n",
       "      <td>3.5</td>\n",
       "      <td>36.1</td>\n",
       "      <td>45.73</td>\n",
       "      <td>0</td>\n",
       "      <td>1.0</td>\n",
       "      <td>0.0</td>\n",
       "      <td>-5.03</td>\n",
       "      <td>1</td>\n",
       "      <td>0</td>\n",
       "    </tr>\n",
       "    <tr>\n",
       "      <th>1</th>\n",
       "      <td>79.0</td>\n",
       "      <td>100.0</td>\n",
       "      <td>36.11</td>\n",
       "      <td>138.0</td>\n",
       "      <td>101.0</td>\n",
       "      <td>77.0</td>\n",
       "      <td>18.0</td>\n",
       "      <td>-3.0</td>\n",
       "      <td>1.0</td>\n",
       "      <td>7.35</td>\n",
       "      <td>...</td>\n",
       "      <td>154.0</td>\n",
       "      <td>3.5</td>\n",
       "      <td>36.1</td>\n",
       "      <td>45.73</td>\n",
       "      <td>0</td>\n",
       "      <td>1.0</td>\n",
       "      <td>0.0</td>\n",
       "      <td>-5.03</td>\n",
       "      <td>2</td>\n",
       "      <td>0</td>\n",
       "    </tr>\n",
       "    <tr>\n",
       "      <th>2</th>\n",
       "      <td>88.0</td>\n",
       "      <td>100.0</td>\n",
       "      <td>36.11</td>\n",
       "      <td>130.0</td>\n",
       "      <td>97.0</td>\n",
       "      <td>75.0</td>\n",
       "      <td>17.0</td>\n",
       "      <td>-3.0</td>\n",
       "      <td>1.0</td>\n",
       "      <td>7.35</td>\n",
       "      <td>...</td>\n",
       "      <td>154.0</td>\n",
       "      <td>3.5</td>\n",
       "      <td>36.1</td>\n",
       "      <td>45.73</td>\n",
       "      <td>0</td>\n",
       "      <td>1.0</td>\n",
       "      <td>0.0</td>\n",
       "      <td>-5.03</td>\n",
       "      <td>3</td>\n",
       "      <td>0</td>\n",
       "    </tr>\n",
       "    <tr>\n",
       "      <th>3</th>\n",
       "      <td>94.0</td>\n",
       "      <td>99.0</td>\n",
       "      <td>36.11</td>\n",
       "      <td>136.0</td>\n",
       "      <td>101.0</td>\n",
       "      <td>79.0</td>\n",
       "      <td>16.0</td>\n",
       "      <td>-3.0</td>\n",
       "      <td>1.0</td>\n",
       "      <td>7.35</td>\n",
       "      <td>...</td>\n",
       "      <td>154.0</td>\n",
       "      <td>3.5</td>\n",
       "      <td>36.1</td>\n",
       "      <td>45.73</td>\n",
       "      <td>0</td>\n",
       "      <td>1.0</td>\n",
       "      <td>0.0</td>\n",
       "      <td>-5.03</td>\n",
       "      <td>4</td>\n",
       "      <td>0</td>\n",
       "    </tr>\n",
       "    <tr>\n",
       "      <th>4</th>\n",
       "      <td>74.0</td>\n",
       "      <td>99.0</td>\n",
       "      <td>36.11</td>\n",
       "      <td>119.0</td>\n",
       "      <td>88.0</td>\n",
       "      <td>66.0</td>\n",
       "      <td>13.0</td>\n",
       "      <td>-3.0</td>\n",
       "      <td>1.0</td>\n",
       "      <td>7.35</td>\n",
       "      <td>...</td>\n",
       "      <td>154.0</td>\n",
       "      <td>3.5</td>\n",
       "      <td>36.1</td>\n",
       "      <td>45.73</td>\n",
       "      <td>0</td>\n",
       "      <td>1.0</td>\n",
       "      <td>0.0</td>\n",
       "      <td>-5.03</td>\n",
       "      <td>5</td>\n",
       "      <td>0</td>\n",
       "    </tr>\n",
       "  </tbody>\n",
       "</table>\n",
       "<p>5 rows × 21 columns</p>\n",
       "</div>"
      ],
      "text/plain": [
       "     HR  O2Sat   Temp    SBP    MAP   DBP  Resp  BaseExcess  FiO2    pH  ...  \\\n",
       "0  79.0  100.0  36.11  138.0  101.0  77.0  18.0        -3.0   1.0  7.35  ...   \n",
       "1  79.0  100.0  36.11  138.0  101.0  77.0  18.0        -3.0   1.0  7.35  ...   \n",
       "2  88.0  100.0  36.11  130.0   97.0  75.0  17.0        -3.0   1.0  7.35  ...   \n",
       "3  94.0   99.0  36.11  136.0  101.0  79.0  16.0        -3.0   1.0  7.35  ...   \n",
       "4  74.0   99.0  36.11  119.0   88.0  66.0  13.0        -3.0   1.0  7.35  ...   \n",
       "\n",
       "   Glucose  Potassium   Hct    Age  Gender  Unit1  Unit2  HospAdmTime  ICULOS  \\\n",
       "0    154.0        3.5  36.1  45.73       0    1.0    0.0        -5.03       1   \n",
       "1    154.0        3.5  36.1  45.73       0    1.0    0.0        -5.03       2   \n",
       "2    154.0        3.5  36.1  45.73       0    1.0    0.0        -5.03       3   \n",
       "3    154.0        3.5  36.1  45.73       0    1.0    0.0        -5.03       4   \n",
       "4    154.0        3.5  36.1  45.73       0    1.0    0.0        -5.03       5   \n",
       "\n",
       "   SepsisLabel  \n",
       "0            0  \n",
       "1            0  \n",
       "2            0  \n",
       "3            0  \n",
       "4            0  \n",
       "\n",
       "[5 rows x 21 columns]"
      ]
     },
     "execution_count": 27,
     "metadata": {},
     "output_type": "execute_result"
    }
   ],
   "source": [
    "imputed_df.head()"
   ]
  },
  {
   "cell_type": "markdown",
   "metadata": {},
   "source": [
    "<h1><b>EDA</h1></b>"
   ]
  },
  {
   "cell_type": "markdown",
   "metadata": {},
   "source": [
    "<h2><b>Correlation matrix</h2></b>"
   ]
  },
  {
   "cell_type": "code",
   "execution_count": 27,
   "metadata": {},
   "outputs": [
    {
     "data": {
      "image/png": "[encoded data removed]",
      "text/plain": [
       "<Figure size 1080x720 with 2 Axes>"
      ]
     },
     "metadata": {
      "needs_background": "light"
     },
     "output_type": "display_data"
    }
   ],
   "source": [
    "plt.figure(figsize=(15,10))\n",
    "sns.heatmap(imputed_df.corr(),annot=True,cmap=\"Blues\")\n",
    "plt.show()"
   ]
  },
  {
   "cell_type": "markdown",
   "metadata": {},
   "source": [
    "<h2><b>Box plots</h2></b>"
   ]
  },
  {
   "cell_type": "code",
   "execution_count": 28,
   "metadata": {},
   "outputs": [
    {
     "data": {
      "image/png": "[encoded data removed]",
      "text/plain": [
       "<Figure size 432x288 with 1 Axes>"
      ]
     },
     "metadata": {
      "needs_background": "light"
     },
     "output_type": "display_data"
    },
    {
     "data": {
      "image/png": "[encoded data removed]",
      "text/plain": [
       "<Figure size 432x288 with 1 Axes>"
      ]
     },
     "metadata": {
      "needs_background": "light"
     },
     "output_type": "display_data"
    },
    {
     "data": {
      "image/png": "[encoded data removed]",
      "text/plain": [
       "<Figure size 432x288 with 1 Axes>"
      ]
     },
     "metadata": {
      "needs_background": "light"
     },
     "output_type": "display_data"
    },
    {
     "data": {
      "image/png": "[encoded data removed]",
      "text/plain": [
       "<Figure size 432x288 with 1 Axes>"
      ]
     },
     "metadata": {
      "needs_background": "light"
     },
     "output_type": "display_data"
    },
    {
     "data": {
      "image/png": "[encoded data removed]",
      "text/plain": [
       "<Figure size 432x288 with 1 Axes>"
      ]
     },
     "metadata": {
      "needs_background": "light"
     },
     "output_type": "display_data"
    },
    {
     "data": {
      "image/png": "[encoded data removed]",
      "text/plain": [
       "<Figure size 432x288 with 1 Axes>"
      ]
     },
     "metadata": {
      "needs_background": "light"
     },
     "output_type": "display_data"
    },
    {
     "data": {
      "image/png": "[encoded data removed]",
      "text/plain": [
       "<Figure size 432x288 with 1 Axes>"
      ]
     },
     "metadata": {
      "needs_background": "light"
     },
     "output_type": "display_data"
    },
    {
     "data": {
      "image/png": "[encoded data removed]",
      "text/plain": [
       "<Figure size 432x288 with 1 Axes>"
      ]
     },
     "metadata": {
      "needs_background": "light"
     },
     "output_type": "display_data"
    },
    {
     "data": {
      "image/png": "[encoded data removed]",
      "text/plain": [
       "<Figure size 432x288 with 1 Axes>"
      ]
     },
     "metadata": {
      "needs_background": "light"
     },
     "output_type": "display_data"
    },
    {
     "data": {
      "image/png": "[encoded data removed]",
      "text/plain": [
       "<Figure size 432x288 with 1 Axes>"
      ]
     },
     "metadata": {
      "needs_background": "light"
     },
     "output_type": "display_data"
    },
    {
     "data": {
      "image/png": "[encoded data removed]",
      "text/plain": [
       "<Figure size 432x288 with 1 Axes>"
      ]
     },
     "metadata": {
      "needs_background": "light"
     },
     "output_type": "display_data"
    },
    {
     "data": {
      "image/png": "[encoded data removed]",
      "text/plain": [
       "<Figure size 432x288 with 1 Axes>"
      ]
     },
     "metadata": {
      "needs_background": "light"
     },
     "output_type": "display_data"
    },
    {
     "data": {
      "image/png": "[encoded data removed]",
      "text/plain": [
       "<Figure size 432x288 with 1 Axes>"
      ]
     },
     "metadata": {
      "needs_background": "light"
     },
     "output_type": "display_data"
    },
    {
     "data": {
      "image/png": "[encoded data removed]",
      "text/plain": [
       "<Figure size 432x288 with 1 Axes>"
      ]
     },
     "metadata": {
      "needs_background": "light"
     },
     "output_type": "display_data"
    },
    {
     "data": {
      "image/png": "[encoded data removed]",
      "text/plain": [
       "<Figure size 432x288 with 1 Axes>"
      ]
     },
     "metadata": {
      "needs_background": "light"
     },
     "output_type": "display_data"
    },
    {
     "data": {
      "image/png": "[encoded data removed]",
      "text/plain": [
       "<Figure size 432x288 with 1 Axes>"
      ]
     },
     "metadata": {
      "needs_background": "light"
     },
     "output_type": "display_data"
    },
    {
     "data": {
      "image/png": "[encoded data removed]",
      "text/plain": [
       "<Figure size 432x288 with 1 Axes>"
      ]
     },
     "metadata": {
      "needs_background": "light"
     },
     "output_type": "display_data"
    },
    {
     "data": {
      "image/png": "[encoded data removed]",
      "text/plain": [
       "<Figure size 432x288 with 1 Axes>"
      ]
     },
     "metadata": {
      "needs_background": "light"
     },
     "output_type": "display_data"
    },
    {
     "data": {
      "image/png": "[encoded data removed]",
      "text/plain": [
       "<Figure size 432x288 with 1 Axes>"
      ]
     },
     "metadata": {
      "needs_background": "light"
     },
     "output_type": "display_data"
    },
    {
     "data": {
      "image/png": "[encoded data removed]",
      "text/plain": [
       "<Figure size 432x288 with 1 Axes>"
      ]
     },
     "metadata": {
      "needs_background": "light"
     },
     "output_type": "display_data"
    }
   ],
   "source": [
    "for i in range(imputed_df.shape[1]-1):\n",
    "  sns.boxplot(imputed_df[list(imputed_df.columns)[i]],orient=\"v\")\n",
    "  plt.show()"
   ]
  },
  {
   "cell_type": "markdown",
   "metadata": {},
   "source": [
    "<h2><b>Distributions of each Feature</h2></b>"
   ]
  },
  {
   "cell_type": "code",
   "execution_count": null,
   "metadata": {},
   "outputs": [],
   "source": [
    "for i in range(imputed_df.shape[1]-1):\n",
    "  sns.kdeplot(imputed_df[list(imputed_df.columns)[i]],shade=True)\n",
    "  plt.show()"
   ]
  },
  {
   "cell_type": "code",
   "execution_count": 31,
   "metadata": {},
   "outputs": [
    {
     "data": {
      "text/plain": [
       "Index(['HR', 'O2Sat', 'Temp', 'SBP', 'MAP', 'DBP', 'Resp', 'BaseExcess',\n",
       "       'FiO2', 'pH', 'PaCO2', 'Glucose', 'Potassium', 'Hct', 'Age', 'Gender',\n",
       "       'Unit1', 'Unit2', 'HospAdmTime', 'ICULOS', 'SepsisLabel'],\n",
       "      dtype='object')"
      ]
     },
     "execution_count": 31,
     "metadata": {},
     "output_type": "execute_result"
    }
   ],
   "source": [
    "imputed_df.columns"
   ]
  },
  {
   "cell_type": "markdown",
   "metadata": {},
   "source": [
    "<h2><b>Feature Engineering</h2></b>"
   ]
  },
  {
   "cell_type": "code",
   "execution_count": 28,
   "metadata": {},
   "outputs": [],
   "source": [
    "imputed_df.drop(['Unit1','Unit2','HospAdmTime','ICULOS',],axis=1,inplace=True)"
   ]
  },
  {
   "cell_type": "code",
   "execution_count": 29,
   "metadata": {},
   "outputs": [
    {
     "data": {
      "text/html": [
       "<div>\n",
       "<style scoped>\n",
       "    .dataframe tbody tr th:only-of-type {\n",
       "        vertical-align: middle;\n",
       "    }\n",
       "\n",
       "    .dataframe tbody tr th {\n",
       "        vertical-align: top;\n",
       "    }\n",
       "\n",
       "    .dataframe thead th {\n",
       "        text-align: right;\n",
       "    }\n",
       "</style>\n",
       "<table border=\"1\" class=\"dataframe\">\n",
       "  <thead>\n",
       "    <tr style=\"text-align: right;\">\n",
       "      <th></th>\n",
       "      <th>HR</th>\n",
       "      <th>O2Sat</th>\n",
       "      <th>Temp</th>\n",
       "      <th>SBP</th>\n",
       "      <th>MAP</th>\n",
       "      <th>DBP</th>\n",
       "      <th>Resp</th>\n",
       "      <th>BaseExcess</th>\n",
       "      <th>FiO2</th>\n",
       "      <th>pH</th>\n",
       "      <th>PaCO2</th>\n",
       "      <th>Glucose</th>\n",
       "      <th>Potassium</th>\n",
       "      <th>Hct</th>\n",
       "      <th>Age</th>\n",
       "      <th>Gender</th>\n",
       "      <th>SepsisLabel</th>\n",
       "    </tr>\n",
       "  </thead>\n",
       "  <tbody>\n",
       "    <tr>\n",
       "      <th>0</th>\n",
       "      <td>79.0</td>\n",
       "      <td>100.0</td>\n",
       "      <td>36.11</td>\n",
       "      <td>138.0</td>\n",
       "      <td>101.0</td>\n",
       "      <td>77.0</td>\n",
       "      <td>18.0</td>\n",
       "      <td>-3.0</td>\n",
       "      <td>1.0</td>\n",
       "      <td>7.35</td>\n",
       "      <td>39.0</td>\n",
       "      <td>154.0</td>\n",
       "      <td>3.5</td>\n",
       "      <td>36.1</td>\n",
       "      <td>45.73</td>\n",
       "      <td>0</td>\n",
       "      <td>0</td>\n",
       "    </tr>\n",
       "    <tr>\n",
       "      <th>1</th>\n",
       "      <td>79.0</td>\n",
       "      <td>100.0</td>\n",
       "      <td>36.11</td>\n",
       "      <td>138.0</td>\n",
       "      <td>101.0</td>\n",
       "      <td>77.0</td>\n",
       "      <td>18.0</td>\n",
       "      <td>-3.0</td>\n",
       "      <td>1.0</td>\n",
       "      <td>7.35</td>\n",
       "      <td>39.0</td>\n",
       "      <td>154.0</td>\n",
       "      <td>3.5</td>\n",
       "      <td>36.1</td>\n",
       "      <td>45.73</td>\n",
       "      <td>0</td>\n",
       "      <td>0</td>\n",
       "    </tr>\n",
       "    <tr>\n",
       "      <th>2</th>\n",
       "      <td>88.0</td>\n",
       "      <td>100.0</td>\n",
       "      <td>36.11</td>\n",
       "      <td>130.0</td>\n",
       "      <td>97.0</td>\n",
       "      <td>75.0</td>\n",
       "      <td>17.0</td>\n",
       "      <td>-3.0</td>\n",
       "      <td>1.0</td>\n",
       "      <td>7.35</td>\n",
       "      <td>39.0</td>\n",
       "      <td>154.0</td>\n",
       "      <td>3.5</td>\n",
       "      <td>36.1</td>\n",
       "      <td>45.73</td>\n",
       "      <td>0</td>\n",
       "      <td>0</td>\n",
       "    </tr>\n",
       "    <tr>\n",
       "      <th>3</th>\n",
       "      <td>94.0</td>\n",
       "      <td>99.0</td>\n",
       "      <td>36.11</td>\n",
       "      <td>136.0</td>\n",
       "      <td>101.0</td>\n",
       "      <td>79.0</td>\n",
       "      <td>16.0</td>\n",
       "      <td>-3.0</td>\n",
       "      <td>1.0</td>\n",
       "      <td>7.35</td>\n",
       "      <td>39.0</td>\n",
       "      <td>154.0</td>\n",
       "      <td>3.5</td>\n",
       "      <td>36.1</td>\n",
       "      <td>45.73</td>\n",
       "      <td>0</td>\n",
       "      <td>0</td>\n",
       "    </tr>\n",
       "    <tr>\n",
       "      <th>4</th>\n",
       "      <td>74.0</td>\n",
       "      <td>99.0</td>\n",
       "      <td>36.11</td>\n",
       "      <td>119.0</td>\n",
       "      <td>88.0</td>\n",
       "      <td>66.0</td>\n",
       "      <td>13.0</td>\n",
       "      <td>-3.0</td>\n",
       "      <td>1.0</td>\n",
       "      <td>7.35</td>\n",
       "      <td>39.0</td>\n",
       "      <td>154.0</td>\n",
       "      <td>3.5</td>\n",
       "      <td>36.1</td>\n",
       "      <td>45.73</td>\n",
       "      <td>0</td>\n",
       "      <td>0</td>\n",
       "    </tr>\n",
       "  </tbody>\n",
       "</table>\n",
       "</div>"
      ],
      "text/plain": [
       "     HR  O2Sat   Temp    SBP    MAP   DBP  Resp  BaseExcess  FiO2    pH  \\\n",
       "0  79.0  100.0  36.11  138.0  101.0  77.0  18.0        -3.0   1.0  7.35   \n",
       "1  79.0  100.0  36.11  138.0  101.0  77.0  18.0        -3.0   1.0  7.35   \n",
       "2  88.0  100.0  36.11  130.0   97.0  75.0  17.0        -3.0   1.0  7.35   \n",
       "3  94.0   99.0  36.11  136.0  101.0  79.0  16.0        -3.0   1.0  7.35   \n",
       "4  74.0   99.0  36.11  119.0   88.0  66.0  13.0        -3.0   1.0  7.35   \n",
       "\n",
       "   PaCO2  Glucose  Potassium   Hct    Age  Gender  SepsisLabel  \n",
       "0   39.0    154.0        3.5  36.1  45.73       0            0  \n",
       "1   39.0    154.0        3.5  36.1  45.73       0            0  \n",
       "2   39.0    154.0        3.5  36.1  45.73       0            0  \n",
       "3   39.0    154.0        3.5  36.1  45.73       0            0  \n",
       "4   39.0    154.0        3.5  36.1  45.73       0            0  "
      ]
     },
     "execution_count": 29,
     "metadata": {},
     "output_type": "execute_result"
    }
   ],
   "source": [
    "imputed_df.head()"
   ]
  },
  {
   "cell_type": "markdown",
   "metadata": {},
   "source": [
    "<h1><b>Train-Test Split</h1></b>"
   ]
  },
  {
   "cell_type": "code",
   "execution_count": 30,
   "metadata": {},
   "outputs": [],
   "source": [
    "x=imputed_df.drop('SepsisLabel',axis=1)\n",
    "y=imputed_df['SepsisLabel']"
   ]
  },
  {
   "cell_type": "code",
   "execution_count": 31,
   "metadata": {},
   "outputs": [],
   "source": [
    "x_train,x_test,y_train,y_test=train_test_split(x,y,stratify=y,test_size=0.2)"
   ]
  },
  {
   "cell_type": "code",
   "execution_count": 32,
   "metadata": {},
   "outputs": [
    {
     "name": "stdout",
     "output_type": "stream",
     "text": [
      "(612878, 16)\n",
      "(153220, 16)\n",
      "(612878,)\n",
      "(153220,)\n"
     ]
    }
   ],
   "source": [
    "print(x_train.shape)\n",
    "print(x_test.shape)\n",
    "print(y_train.shape)\n",
    "print(y_test.shape)"
   ]
  },
  {
   "cell_type": "markdown",
   "metadata": {},
   "source": [
    "<b><h1>Modelling</b></h1>"
   ]
  },
  {
   "cell_type": "markdown",
   "metadata": {},
   "source": [
    "<h3>XGBoost Classifier</h3>"
   ]
  },
  {
   "cell_type": "code",
   "execution_count": 33,
   "metadata": {},
   "outputs": [
    {
     "name": "stdout",
     "output_type": "stream",
     "text": [
      "\u001b[33mWARNING: Ignoring invalid distribution -bsl-py (/opt/conda/lib/python3.7/site-packages)\u001b[0m\n",
      "\u001b[33mWARNING: Ignoring invalid distribution -bsl-py (/opt/conda/lib/python3.7/site-packages)\u001b[0m\n",
      "Requirement already satisfied: xgboost in /opt/conda/lib/python3.7/site-packages (1.4.2)\n",
      "Requirement already satisfied: scipy in /opt/conda/lib/python3.7/site-packages (from xgboost) (1.6.3)\n",
      "Requirement already satisfied: numpy in /opt/conda/lib/python3.7/site-packages (from xgboost) (1.19.5)\n",
      "\u001b[33mWARNING: Ignoring invalid distribution -bsl-py (/opt/conda/lib/python3.7/site-packages)\u001b[0m\n",
      "\u001b[33mWARNING: Ignoring invalid distribution -bsl-py (/opt/conda/lib/python3.7/site-packages)\u001b[0m\n",
      "\u001b[33mWARNING: Ignoring invalid distribution -bsl-py (/opt/conda/lib/python3.7/site-packages)\u001b[0m\n",
      "Note: you may need to restart the kernel to use updated packages.\n"
     ]
    }
   ],
   "source": [
    "pip install xgboost"
   ]
  },
  {
   "cell_type": "code",
   "execution_count": 34,
   "metadata": {},
   "outputs": [
    {
     "data": {
      "text/plain": [
       "XGBClassifier(base_score=0.5, booster='gbtree', colsample_bylevel=1,\n",
       "              colsample_bynode=1, colsample_bytree=1, eval_metric='logloss',\n",
       "              gamma=0, gpu_id=-1, importance_type='gain',\n",
       "              interaction_constraints='', learning_rate=0.3, max_delta_step=0,\n",
       "              max_depth=6, min_child_weight=1, missing=nan,\n",
       "              monotone_constraints='()', n_estimators=100, n_jobs=8,\n",
       "              num_parallel_tree=1, random_state=0, reg_alpha=0, reg_lambda=1,\n",
       "              scale_pos_weight=1, subsample=1, tree_method='exact',\n",
       "              validate_parameters=1, verbosity=None)"
      ]
     },
     "execution_count": 34,
     "metadata": {},
     "output_type": "execute_result"
    }
   ],
   "source": [
    "xgb_clf=XGBClassifier(n_estimators=100,max_depth=6,learning_rate=0.3,objective='binary:logistic',eval_metric='logloss')\n",
    "xgb_clf.fit(x_train,y_train)"
   ]
  },
  {
   "cell_type": "markdown",
   "metadata": {},
   "source": [
    "<h3><b>Performance Of Xgboost</h3></b>"
   ]
  },
  {
   "cell_type": "code",
   "execution_count": 35,
   "metadata": {},
   "outputs": [],
   "source": [
    "y_pred_test_xgb=xgb_clf.predict(x_test)"
   ]
  },
  {
   "cell_type": "code",
   "execution_count": 36,
   "metadata": {},
   "outputs": [
    {
     "name": "stdout",
     "output_type": "stream",
     "text": [
      "XgBoost Precision= 0.8988567637226631\n"
     ]
    }
   ],
   "source": [
    "xgb_precsion=precision_score(y_test,y_pred_test_xgb)\n",
    "print(\"XgBoost Precision=\",xgb_precsion)"
   ]
  },
  {
   "cell_type": "code",
   "execution_count": 37,
   "metadata": {},
   "outputs": [
    {
     "name": "stdout",
     "output_type": "stream",
     "text": [
      "XgBoost Recall= 0.9195535830831484\n"
     ]
    }
   ],
   "source": [
    "xgb_recall=recall_score(y_test,y_pred_test_xgb)\n",
    "print(\"XgBoost Recall=\",xgb_recall)"
   ]
  },
  {
   "cell_type": "code",
   "execution_count": 38,
   "metadata": {},
   "outputs": [
    {
     "name": "stdout",
     "output_type": "stream",
     "text": [
      "XgBoost F1 Score= 0.90908738966603\n"
     ]
    }
   ],
   "source": [
    "xgb_f1=f1_score(y_test,y_pred_test_xgb)\n",
    "print(\"XgBoost F1 Score=\",xgb_f1)"
   ]
  },
  {
   "cell_type": "code",
   "execution_count": 39,
   "metadata": {},
   "outputs": [
    {
     "name": "stdout",
     "output_type": "stream",
     "text": [
      "XgBoost Accuracy= 0.908040725753818\n"
     ]
    }
   ],
   "source": [
    "xgb_accuracy=accuracy_score(y_test,y_pred_test_xgb)\n",
    "print(\"XgBoost Accuracy=\",xgb_accuracy)"
   ]
  },
  {
   "cell_type": "code",
   "execution_count": 40,
   "metadata": {},
   "outputs": [],
   "source": [
    "y_pred_proba_test_xgb=xgb_clf.predict_proba(x_test)"
   ]
  },
  {
   "cell_type": "code",
   "execution_count": 62,
   "metadata": {},
   "outputs": [
    {
     "name": "stdout",
     "output_type": "stream",
     "text": [
      "XgBoost Area Under Curve= 0.9701994305047625\n"
     ]
    }
   ],
   "source": [
    "xgb_auc=roc_auc_score(y_test,y_pred_proba_test_xgb[:,1])\n",
    "print(\"XgBoost Area Under Curve=\",xgb_auc)"
   ]
  },
  {
   "cell_type": "code",
   "execution_count": 63,
   "metadata": {},
   "outputs": [
    {
     "data": {
      "image/png": "[encoded data removed]",
      "text/plain": [
       "<Figure size 432x288 with 2 Axes>"
      ]
     },
     "metadata": {
      "needs_background": "light"
     },
     "output_type": "display_data"
    }
   ],
   "source": [
    "xgb_cm=confusion_matrix(y_test,y_pred_test_xgb)\n",
    "sns.heatmap(xgb_cm,cmap=sns.light_palette(\"blue\"),annot=True,fmt='g')\n",
    "plt.title(\"Confusion Matrix\")\n",
    "plt.xlabel('predicted')\n",
    "plt.ylabel('Actual')\n",
    "plt.show()"
   ]
  },
  {
   "cell_type": "code",
   "execution_count": 64,
   "metadata": {},
   "outputs": [
    {
     "data": {
      "image/png": "[encoded data removed]",
      "text/plain": [
       "<Figure size 432x288 with 2 Axes>"
      ]
     },
     "metadata": {
      "needs_background": "light"
     },
     "output_type": "display_data"
    }
   ],
   "source": [
    "xgb_pm=(xgb_cm/xgb_cm.sum(axis=0))\n",
    "sns.heatmap(xgb_pm,cmap=sns.light_palette(\"blue\"),annot=True,fmt='g')\n",
    "plt.title(\"Precision Matrix\")\n",
    "plt.xlabel('predicted')\n",
    "plt.ylabel('Actual')\n",
    "plt.show()"
   ]
  },
  {
   "cell_type": "code",
   "execution_count": 47,
   "metadata": {},
   "outputs": [
    {
     "data": {
      "image/png": "[encoded data removed]",
      "text/plain": [
       "<Figure size 432x288 with 2 Axes>"
      ]
     },
     "metadata": {
      "needs_background": "light"
     },
     "output_type": "display_data"
    }
   ],
   "source": [
    "xgb_rm=(((xgb_cm.T)/(xgb_cm.sum(axis=1))).T)\n",
    "sns.heatmap(xgb_rm,cmap=sns.light_palette(\"blue\"),annot=True,fmt='g')\n",
    "plt.title(\"Recall Matrix\")\n",
    "plt.xlabel('predicted')\n",
    "plt.ylabel('Actual')\n",
    "plt.show()"
   ]
  },
  {
   "cell_type": "code",
   "execution_count": 48,
   "metadata": {},
   "outputs": [
    {
     "data": {
      "image/png": "[encoded data removed]",
      "text/plain": [
       "<Figure size 432x288 with 1 Axes>"
      ]
     },
     "metadata": {
      "needs_background": "light"
     },
     "output_type": "display_data"
    }
   ],
   "source": [
    "y_pred_proba_train_xgb=xgb_clf.predict_proba(x_train)\n",
    "\n",
    "#plotting ROC curve\n",
    "train_fpr,train_tpr,train_thresholds=roc_curve(y_train,y_pred_proba_train_xgb[:,1])\n",
    "test_fpr,test_tpr,test_thresholds=roc_curve(y_test,y_pred_proba_test_xgb[:,1])\n",
    "\n",
    "plt.plot(train_fpr,train_tpr,label=\"train AUC =\"+str(auc(train_fpr, train_tpr)))\n",
    "plt.plot(test_fpr,test_tpr,label=\"test AUC =\"+str(auc(test_fpr, test_tpr)))\n",
    "plt.legend()\n",
    "plt.xlabel(\"FPR\")\n",
    "plt.ylabel(\"TPR\")\n",
    "plt.title(\"ROC-CURVE\")\n",
    "plt.grid()\n",
    "plt.show()"
   ]
  },
  {
   "cell_type": "markdown",
   "metadata": {},
   "source": [
    "<h3>GradientBoosting Classifier</h3>"
   ]
  },
  {
   "cell_type": "code",
   "execution_count": null,
   "metadata": {},
   "outputs": [],
   "source": [
    "gb_clf=GradientBoostingClassifier(learning_rate=0.1,n_estimators=100,subsample=1.0,min_samples_split=2,max_depth=3)\n",
    "gb_clf.fit(x_train,y_train)"
   ]
  },
  {
   "cell_type": "markdown",
   "metadata": {},
   "source": [
    "<h3><b>Performance Of Gradient Boosting Classifier</h3></b>"
   ]
  },
  {
   "cell_type": "code",
   "execution_count": null,
   "metadata": {},
   "outputs": [],
   "source": [
    "y_pred_test_gb=gb_clf.predict(x_test)"
   ]
  },
  {
   "cell_type": "code",
   "execution_count": null,
   "metadata": {},
   "outputs": [],
   "source": [
    "gb_precsion=precision_score(y_test,y_pred_test_gb)\n",
    "print(\"GradientBoosting Precision=\",gb_precsion)"
   ]
  },
  {
   "cell_type": "code",
   "execution_count": null,
   "metadata": {},
   "outputs": [],
   "source": [
    "gb_recall=recall_score(y_test,y_pred_test_gb)\n",
    "print(\"GradientBoosting Recall=\",gb_recall)"
   ]
  },
  {
   "cell_type": "code",
   "execution_count": null,
   "metadata": {},
   "outputs": [],
   "source": [
    "gb_f1=f1_score(y_test,y_pred_test_gb)\n",
    "print(\"GradientBoosting F1 Score=\",gb_f1)"
   ]
  },
  {
   "cell_type": "code",
   "execution_count": null,
   "metadata": {},
   "outputs": [],
   "source": [
    "gb_accuracy=accuracy_score(y_test,y_pred_test_gb)\n",
    "print(\"GradientBoosting Accuracy=\",gb_accuracy)"
   ]
  },
  {
   "cell_type": "code",
   "execution_count": null,
   "metadata": {},
   "outputs": [],
   "source": [
    "y_pred_proba_test_gb=gb_clf.predict_proba(x_test)"
   ]
  },
  {
   "cell_type": "code",
   "execution_count": null,
   "metadata": {},
   "outputs": [],
   "source": [
    "gb_auc=roc_auc_score(y_test,y_pred_proba_test_gb[:,1])\n",
    "print(\"GradientBoosting Area Under Curve=\",gb_auc)"
   ]
  },
  {
   "cell_type": "code",
   "execution_count": null,
   "metadata": {},
   "outputs": [],
   "source": [
    "gb_cm=confusion_matrix(y_test,y_pred_test_gb)\n",
    "sns.heatmap(gb_cm,cmap=sns.light_palette(\"blue\"),annot=True,fmt='g')\n",
    "plt.title(\"Confusion Matrix\")\n",
    "plt.xlabel('predicted')\n",
    "plt.ylabel('Actual')\n",
    "plt.show()"
   ]
  },
  {
   "cell_type": "code",
   "execution_count": null,
   "metadata": {},
   "outputs": [],
   "source": [
    "gb_pm=(gb_cm/gb_cm.sum(axis=0))\n",
    "sns.heatmap(gb_pm,cmap=sns.light_palette(\"blue\"),annot=True,fmt='g')\n",
    "plt.title(\"Precision Matrix\")\n",
    "plt.xlabel('predicted')\n",
    "plt.ylabel('Actual')\n",
    "plt.show()"
   ]
  },
  {
   "cell_type": "code",
   "execution_count": null,
   "metadata": {},
   "outputs": [],
   "source": [
    "gb_rm=(((gb_cm.T)/(gb_cm.sum(axis=1))).T)\n",
    "sns.heatmap(gb_rm,cmap=sns.light_palette(\"blue\"),annot=True,fmt='g')\n",
    "plt.title(\"Recall Matrix\")\n",
    "plt.xlabel('predicted')\n",
    "plt.ylabel('Actual')\n",
    "plt.show()"
   ]
  },
  {
   "cell_type": "code",
   "execution_count": null,
   "metadata": {},
   "outputs": [],
   "source": [
    "y_pred_proba_train_gb=gb_clf.predict_proba(x_train)\n",
    "\n",
    "#plotting ROC curve\n",
    "train_fpr,train_tpr,train_thresholds=roc_curve(y_train,y_pred_proba_train_gb[:,1])\n",
    "test_fpr,test_tpr,test_thresholds=roc_curve(y_test,y_pred_proba_test_gb[:,1])\n",
    "\n",
    "plt.plot(train_fpr,train_tpr,label=\"train AUC =\"+str(auc(train_fpr, train_tpr)))\n",
    "plt.plot(test_fpr,test_tpr,label=\"test AUC =\"+str(auc(test_fpr, test_tpr)))\n",
    "plt.legend()\n",
    "plt.xlabel(\"FPR\")\n",
    "plt.ylabel(\"TPR\")\n",
    "plt.title(\"ROC-CURVE\")\n",
    "plt.grid()\n",
    "plt.show()"
   ]
  },
  {
   "cell_type": "markdown",
   "metadata": {},
   "source": [
    "<b><h2>Logistic Regression</b></h2>"
   ]
  },
  {
   "cell_type": "code",
   "execution_count": null,
   "metadata": {},
   "outputs": [],
   "source": [
    "lg_clf=SGDClassifier(loss='log')\n",
    "lg_clf.fit(x_train,y_train)"
   ]
  },
  {
   "cell_type": "markdown",
   "metadata": {},
   "source": [
    "<h3><b>Performance Of Logistic Regression</h3></b>"
   ]
  },
  {
   "cell_type": "code",
   "execution_count": null,
   "metadata": {},
   "outputs": [],
   "source": [
    "y_pred_test_lg=lg_clf.predict(x_test)"
   ]
  },
  {
   "cell_type": "code",
   "execution_count": null,
   "metadata": {},
   "outputs": [],
   "source": [
    "lg_precsion=precision_score(y_test,y_pred_test_lg)\n",
    "print(\"LogisticRegression Precision=\",lg_precsion)"
   ]
  },
  {
   "cell_type": "code",
   "execution_count": null,
   "metadata": {},
   "outputs": [],
   "source": [
    "lg_recall=recall_score(y_test,y_pred_test_lg)\n",
    "print(\"LogisticRegression Recall=\",lg_recall)"
   ]
  },
  {
   "cell_type": "code",
   "execution_count": null,
   "metadata": {},
   "outputs": [],
   "source": [
    "lg_f1=f1_score(y_test,y_pred_test_lg)\n",
    "print(\"LogisticRegression F1 Score=\",lg_f1)"
   ]
  },
  {
   "cell_type": "code",
   "execution_count": null,
   "metadata": {},
   "outputs": [],
   "source": [
    "lg_accuracy=accuracy_score(y_test,y_pred_test_lg)\n",
    "print(\"LogisticRegression Accuracy=\",lg_accuracy)"
   ]
  },
  {
   "cell_type": "code",
   "execution_count": null,
   "metadata": {},
   "outputs": [],
   "source": [
    "y_pred_proba_test_lg=lg_clf.predict_proba(x_test)"
   ]
  },
  {
   "cell_type": "code",
   "execution_count": null,
   "metadata": {},
   "outputs": [],
   "source": [
    "lg_auc=roc_auc_score(y_test,y_pred_proba_test_lg[:,1])\n",
    "print(\"LogisticRegression Area Under Curve=\",lg_auc)"
   ]
  },
  {
   "cell_type": "code",
   "execution_count": null,
   "metadata": {},
   "outputs": [],
   "source": [
    "lg_cm=confusion_matrix(y_test,y_pred_test_lg)\n",
    "sns.heatmap(lg_cm,cmap=sns.light_palette(\"blue\"),annot=True,fmt='g')\n",
    "plt.title(\"Confusion Matrix\")\n",
    "plt.xlabel('predicted')\n",
    "plt.ylabel('Actual')\n",
    "plt.show()"
   ]
  },
  {
   "cell_type": "code",
   "execution_count": null,
   "metadata": {},
   "outputs": [],
   "source": [
    "lg_pm=(lg_cm/lg_cm.sum(axis=0))\n",
    "sns.heatmap(lg_pm,cmap=sns.light_palette(\"blue\"),annot=True,fmt='g')\n",
    "plt.title(\"Precision Matrix\")\n",
    "plt.xlabel('predicted')\n",
    "plt.ylabel('Actual')\n",
    "plt.show()"
   ]
  },
  {
   "cell_type": "code",
   "execution_count": null,
   "metadata": {},
   "outputs": [],
   "source": [
    "lg_rm=(((lg_cm.T)/(lg_cm.sum(axis=1))).T)\n",
    "sns.heatmap(lg_rm,cmap=sns.light_palette(\"blue\"),annot=True,fmt='g')\n",
    "plt.title(\"Recall Matrix\")\n",
    "plt.xlabel('predicted')\n",
    "plt.ylabel('Actual')\n",
    "plt.show()"
   ]
  },
  {
   "cell_type": "code",
   "execution_count": null,
   "metadata": {},
   "outputs": [],
   "source": [
    "y_pred_proba_train_lg=lg_clf.predict_proba(x_train)\n",
    "\n",
    "#plotting ROC curve\n",
    "train_fpr,train_tpr,train_thresholds=roc_curve(y_train,y_pred_proba_train_lg[:,1])\n",
    "test_fpr,test_tpr,test_thresholds=roc_curve(y_test,y_pred_proba_test_lg[:,1])\n",
    "\n",
    "plt.plot(train_fpr,train_tpr,label=\"train AUC =\"+str(auc(train_fpr, train_tpr)))\n",
    "plt.plot(test_fpr,test_tpr,label=\"test AUC =\"+str(auc(test_fpr, test_tpr)))\n",
    "plt.legend()\n",
    "plt.xlabel(\"FPR\")\n",
    "plt.ylabel(\"TPR\")\n",
    "plt.title(\"ROC-CURVE\")\n",
    "plt.grid()\n",
    "plt.show()"
   ]
  },
  {
   "cell_type": "markdown",
   "metadata": {},
   "source": [
    "<b><h2>SupportVector Classifier</b></h2>"
   ]
  },
  {
   "cell_type": "code",
   "execution_count": null,
   "metadata": {},
   "outputs": [],
   "source": [
    "sv_clf=SGDClassifier(loss='hinge')\n",
    "sv_clf.fit(x_train,y_train)"
   ]
  },
  {
   "cell_type": "markdown",
   "metadata": {},
   "source": [
    "<h3><b>Performance Of Support Vector Classifier</h3></b>"
   ]
  },
  {
   "cell_type": "code",
   "execution_count": null,
   "metadata": {},
   "outputs": [],
   "source": [
    "y_pred_test_sv=sv_clf.predict(x_test)"
   ]
  },
  {
   "cell_type": "code",
   "execution_count": null,
   "metadata": {},
   "outputs": [],
   "source": [
    "sv_precsion=precision_score(y_test,y_pred_test_sv)\n",
    "print(\"SupportVectorClassifier Precision=\",sv_precsion)"
   ]
  },
  {
   "cell_type": "code",
   "execution_count": null,
   "metadata": {},
   "outputs": [],
   "source": [
    "sv_recall=recall_score(y_test,y_pred_test_sv)\n",
    "print(\"SupportVectorClassifier Recall=\",sv_recall)"
   ]
  },
  {
   "cell_type": "code",
   "execution_count": null,
   "metadata": {},
   "outputs": [],
   "source": [
    "sv_f1=f1_score(y_test,y_pred_test_sv)\n",
    "print(\"SupportVectorClassifier F1 Score=\",sv_f1)"
   ]
  },
  {
   "cell_type": "code",
   "execution_count": null,
   "metadata": {},
   "outputs": [],
   "source": [
    "sv_accuracy=accuracy_score(y_test,y_pred_test_sv)\n",
    "print(\"SupportVectorClassifier Accuracy=\",sv_accuracy)"
   ]
  },
  {
   "cell_type": "code",
   "execution_count": null,
   "metadata": {},
   "outputs": [],
   "source": [
    "calibrator = CalibratedClassifierCV(sv_clf, cv='prefit')\n",
    "model=calibrator.fit(x_train,y_train)\n",
    "\n",
    "y_pred_proba_train_sv=  model.predict_proba(x_train)\n",
    "y_pred_proba_test_sv = model.predict_proba(x_test)"
   ]
  },
  {
   "cell_type": "code",
   "execution_count": null,
   "metadata": {},
   "outputs": [],
   "source": [
    "sv_auc=roc_auc_score(y_test,y_pred_proba_test_sv[:,1])\n",
    "print(\"SupportVectorClassifier Area Under Curve=\",sv_auc)"
   ]
  },
  {
   "cell_type": "code",
   "execution_count": null,
   "metadata": {},
   "outputs": [],
   "source": [
    "sv_cm=confusion_matrix(y_test,y_pred_test_sv)\n",
    "sns.heatmap(sv_cm,cmap=sns.light_palette(\"blue\"),annot=True,fmt='g')\n",
    "plt.title(\"Confusion Matrix\")\n",
    "plt.xlabel('predicted')\n",
    "plt.ylabel('Actual')\n",
    "plt.show()"
   ]
  },
  {
   "cell_type": "code",
   "execution_count": null,
   "metadata": {},
   "outputs": [],
   "source": [
    "sv_pm=(sv_cm/sv_cm.sum(axis=0))\n",
    "sns.heatmap(sv_pm,cmap=sns.light_palette(\"blue\"),annot=True,fmt='g')\n",
    "plt.title(\"Precision Matrix\")\n",
    "plt.xlabel('predicted')\n",
    "plt.ylabel('Actual')\n",
    "plt.show()"
   ]
  },
  {
   "cell_type": "code",
   "execution_count": null,
   "metadata": {},
   "outputs": [],
   "source": [
    "sv_rm=(((dt_cm.T)/(sv_cm.sum(axis=1))).T)\n",
    "sns.heatmap(sv_rm,cmap=sns.light_palette(\"blue\"),annot=True,fmt='g')\n",
    "plt.title(\"Recall Matrix\")\n",
    "plt.xlabel('predicted')\n",
    "plt.ylabel('Actual')\n",
    "plt.show()"
   ]
  },
  {
   "cell_type": "code",
   "execution_count": null,
   "metadata": {},
   "outputs": [],
   "source": [
    "#plotting ROC curve\n",
    "train_fpr,train_tpr,train_thresholds=roc_curve(y_train,y_pred_proba_train_sv[:,1])\n",
    "test_fpr,test_tpr,test_thresholds=roc_curve(y_test,y_pred_proba_test_sv[:,1])\n",
    "\n",
    "plt.plot(train_fpr,train_tpr,label=\"train AUC =\"+str(auc(train_fpr, train_tpr)))\n",
    "plt.plot(test_fpr,test_tpr,label=\"test AUC =\"+str(auc(test_fpr, test_tpr)))\n",
    "plt.legend()\n",
    "plt.xlabel(\"FPR\")\n",
    "plt.ylabel(\"TPR\")\n",
    "plt.title(\"ROC-CURVE\")\n",
    "plt.grid()\n",
    "plt.show()"
   ]
  },
  {
   "cell_type": "markdown",
   "metadata": {},
   "source": [
    "<b><h1>Deep Learning Architechture</b></h1>"
   ]
  },
  {
   "cell_type": "markdown",
   "metadata": {},
   "source": [
    "<h2><b>Multi Layer Perceptron Using TensorFlow Keras API</h2></b>"
   ]
  },
  {
   "attachments": {
    "image.png": {
     "image/png": "[encoded data removed]"
    }
   },
   "cell_type": "markdown",
   "metadata": {},
   "source": [
    " ![image.png](attachment:image.png)"
   ]
  },
  {
   "cell_type": "markdown",
   "metadata": {},
   "source": [
    "<b>Activation Function-</b> Rectified Linear Units(ReLu)<br>\n",
    "<b>Activation Function For Output Layer-</b>  Sigmoid unit<br>\n",
    "<b>Weights Initializer-</b>  He Uniform<br>\n",
    "<b>Optimizer-</b>  Adam<br>"
   ]
  },
  {
   "cell_type": "code",
   "execution_count": null,
   "metadata": {},
   "outputs": [],
   "source": [
    "%load_ext tensorboard"
   ]
  },
  {
   "cell_type": "code",
   "execution_count": null,
   "metadata": {},
   "outputs": [],
   "source": [
    "#clearing previous logs|\n",
    "!rm -rf ./model_logs/ "
   ]
  },
  {
   "cell_type": "code",
   "execution_count": null,
   "metadata": {},
   "outputs": [],
   "source": [
    "y_train.shape"
   ]
  },
  {
   "cell_type": "code",
   "execution_count": null,
   "metadata": {},
   "outputs": [],
   "source": [
    "model=Sequential()\n",
    "#input layer\n",
    "model.add(InputLayer(x_train.shape[1],))\n",
    "\n",
    "#hidden layers\n",
    "model.add(Dense(50,activation='tanh',kernel_initializer=tf.keras.initializers.he_uniform()))\n",
    "model.add(Dense(40,activation='tanh',kernel_initializer=tf.keras.initializers.he_uniform()))\n",
    "model.add(Dense(30,activation='tanh',kernel_initializer=tf.keras.initializers.he_uniform()))\n",
    "model.add(Dense(20,activation='tanh',kernel_initializer=tf.keras.initializers.he_uniform()))\n",
    "model.add(Dense(10,activation='tanh',kernel_initializer=tf.keras.initializers.he_uniform()))\n",
    "\n",
    "#output layer\n",
    "model.add(Dense(1,activation='sigmoid',kernel_initializer=tf.keras.initializers.he_uniform()))\n",
    "\n",
    "#defining optimizer\n",
    "optimizer=tf.keras.optimizers.Adam()\n",
    "\n",
    "log_dir=\"model_logs/fit/\"+ datetime.datetime.now().strftime(\"%Y%m%d-%H%M%S\")\n",
    "tensorboard=tf.keras.callbacks.TensorBoard(log_dir=log_dir,histogram_freq=1)\n",
    "\n",
    "model.compile(optimizer=optimizer, loss='binary_crossentropy',metrics=['accuracy','Recall'])\n",
    "model.fit(x_train,y_train,epochs=10, validation_data=(x_test,y_test),callbacks=[tensorboard])"
   ]
  },
  {
   "cell_type": "code",
   "execution_count": null,
   "metadata": {},
   "outputs": [],
   "source": [
    "model.summary()"
   ]
  },
  {
   "cell_type": "code",
   "execution_count": null,
   "metadata": {},
   "outputs": [],
   "source": [
    "%tensorboard --logdir model_logs/fit"
   ]
  },
  {
   "cell_type": "code",
   "execution_count": 41,
   "metadata": {},
   "outputs": [],
   "source": [
    "pickle_out=open(\"classifier.pkl\",\"wb\")\n",
    "pickle.dump(xgb_clf,pickle_out)\n",
    "pickle_out.close()"
   ]
  },
  {
   "cell_type": "code",
   "execution_count": null,
   "metadata": {},
   "outputs": [],
   "source": []
  }
 ],
 "metadata": {
  "colab": {
   "collapsed_sections": [],
   "name": "Ver_1.ipynb",
   "provenance": []
  },
  "kernelspec": {
   "display_name": "Python 3",
   "language": "python",
   "name": "python3"
  },
  "language_info": {
   "codemirror_mode": {
    "name": "ipython",
    "version": 3
   },
   "file_extension": ".py",
   "mimetype": "text/x-python",
   "name": "python",
   "nbconvert_exporter": "python",
   "pygments_lexer": "ipython3",
   "version": "3.7.10"
  }
 },
 "nbformat": 4,
 "nbformat_minor": 1
}
